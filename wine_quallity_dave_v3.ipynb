{
 "cells": [
  {
   "cell_type": "markdown",
   "metadata": {},
   "source": [
    "# Initialize Libraries"
   ]
  },
  {
   "cell_type": "code",
   "execution_count": 95,
   "metadata": {},
   "outputs": [],
   "source": [
    "#python helpers\n",
    "import pandas as pd\n",
    "import numpy as np\n",
    "import matplotlib.pyplot as plt\n",
    "import warnings\n",
    "warnings.filterwarnings('ignore')\n",
    "\n",
    "#model metrics\n",
    "from sklearn.model_selection import train_test_split\n",
    "from sklearn.metrics import accuracy_score, balanced_accuracy_score\n",
    "from sklearn.metrics import classification_report, confusion_matrix,ConfusionMatrixDisplay\n",
    "from sklearn.metrics import mean_squared_error, r2_score\n",
    "\n",
    "#scalers\n",
    "from sklearn.preprocessing import StandardScaler\n",
    "from sklearn.preprocessing import MinMaxScaler\n",
    "\n",
    "#models\n",
    "from sklearn.svm import SVC\n",
    "from sklearn.neighbors import KNeighborsClassifier\n",
    "from sklearn.tree import DecisionTreeClassifier\n",
    "from sklearn.ensemble import ExtraTreesClassifier\n",
    "from xgboost import XGBClassifier\n",
    "from sklearn.linear_model import LinearRegression, Ridge, Lasso, LogisticRegression\n",
    "from sklearn.ensemble import RandomForestClassifier, GradientBoostingClassifier,AdaBoostClassifier\n",
    "from sklearn.naive_bayes import GaussianNB, MultinomialNB, BernoulliNB\n",
    "from sklearn.model_selection import GridSearchCV\n",
    "\n",
    "#data import\n",
    "from ucimlrepo import fetch_ucirepo \n"
   ]
  },
  {
   "cell_type": "markdown",
   "metadata": {},
   "source": [
    "# Functions"
   ]
  },
  {
   "cell_type": "code",
   "execution_count": 80,
   "metadata": {},
   "outputs": [],
   "source": [
    "#train test and scale function\n",
    "def train_test_scale_function(data,technique):\n",
    "    #train test split\n",
    "    X=data.drop(columns=\"quality\")\n",
    "    y=data[\"quality\"] - data[\"quality\"].min()  #need to start at 0 for XG Boost\n",
    "    X_train, X_test, y_train, y_test=train_test_split(X,y, random_state=42)\n",
    "\n",
    "    #scaler fitting\n",
    "    ss=StandardScaler().fit(X_train)\n",
    "    mm=MinMaxScaler(feature_range=(0,1)).fit(X_train)\n",
    "\n",
    "    if technique in [\"svm\",\"knn\",\"logr\",\"linr\",\"ridge\",\"lasso\"]:\n",
    "        # Standard scaling for SVM, KNN, Logistic Regression, and liner regressions\n",
    "        X_train_scaled=ss.transform(X_train)\n",
    "        X_test_scaled=ss.transform(X_test)\n",
    "    elif technique in [\"gb\",\"mbg\",\"nbm\",\"nbg\"]:\n",
    "        #MinMax scaling for gradient boost and naive bayes models\n",
    "        X_train_scaled=mm.transform(X_train)\n",
    "        X_test_scaled=mm.transform(X_test)\n",
    "    else:\n",
    "        #No scaling for other techniques (e.g., tree based models)\n",
    "        X_train_scaled=X_train\n",
    "        X_test_scaled=X_test\n",
    "\n",
    "    return X_train_scaled, X_test_scaled, y_train, y_test"
   ]
  },
  {
   "cell_type": "code",
   "execution_count": 81,
   "metadata": {},
   "outputs": [],
   "source": [
    "#classifier function\n",
    "def classifier_function(data, technique):\n",
    "    #model mapping\n",
    "    model_mapping={\n",
    "        \"rf\" : RandomForestClassifier,\n",
    "        \"gb\" : GradientBoostingClassifier,\n",
    "        \"svm\" : SVC,\n",
    "        \"knn\" : KNeighborsClassifier,\n",
    "        \"dt\" : DecisionTreeClassifier,\n",
    "        \"ert\" : ExtraTreesClassifier,\n",
    "        \"ab\" : AdaBoostClassifier,\n",
    "        \"xgb\" : XGBClassifier,\n",
    "        \"nbg\" : GaussianNB,\n",
    "        \"nbm\" : MultinomialNB,\n",
    "        \"nbb\" : BernoulliNB,\n",
    "        \"logr\" : LogisticRegression,\n",
    "        \"linr\" : LinearRegression,\n",
    "        \"ridge\" : Ridge,\n",
    "        \"lasso\" : Lasso\n",
    "    }\n",
    "\n",
    "    #data\n",
    "    X_train_scaled, X_test_scaled, y_train, y_test = train_test_scale_function(data, technique)\n",
    "\n",
    "    #commands\n",
    "    model_class=model_mapping.get(technique)\n",
    "    if technique in [\"rf\",\"gb\",\"dt\",\"ert\",\"ab\",\"logr\",\"ridge\",\"lasso\"]:\n",
    "        model_instance=model_class(random_state=42)\n",
    "    elif technique==\"svm\":\n",
    "        model_instance=model_class(random_state=42,kernel=\"rbf\")\n",
    "    elif technique in [\"knn\",\"xgb\",\"nbg\",\"nbm\",\"nbb\",\"linr\"]:\n",
    "        model_instance=model_class()\n",
    "    else:\n",
    "        raise ValueError(f\"Unknown model type: {technique}\") \n",
    "    \n",
    "\n",
    "    model_instance.fit(X_train_scaled,y_train)\n",
    "    predictions=model_instance.predict(X_test_scaled)\n",
    "    \n",
    "    if technique in [\"linr\", \"ridge\", \"lasso\"]:\n",
    "        mse=mean_squared_error(y_test,predictions)\n",
    "        r2=r2_score(y_test,predictions)\n",
    "        model_train_score=None\n",
    "        model_test_score=None\n",
    "    else:\n",
    "        mse=None\n",
    "        r2=None\n",
    "        model_train_score=model_instance.score(X_train_scaled,y_train)\n",
    "        model_test_score=model_instance.score(X_test_scaled,y_test)\n",
    "        #classification=classification_report(y_test,predictions)\n",
    " \n",
    "    return model_train_score,model_test_score,mse,r2\n"
   ]
  },
  {
   "cell_type": "code",
   "execution_count": 82,
   "metadata": {},
   "outputs": [],
   "source": [
    "#function to produce metrics table\n",
    "def model_report_function(data):\n",
    "    # Store classifier results in a dictionary\n",
    "    classifier_results = {\n",
    "        \"Classifier\": [\"Random Forest\", \"Gradient Boost\", \"SVM\", \"KNN\", \"Decision Tree\",\"Extremely Random Tree\", \"Adaptive Boost\", \"XG Boost\",\"Naive Bayes Gaussian\", \"Naive Bayes Multinomial\", \"Naive Bayes Bernoulli\",\"Logistic Regression\"],\n",
    "        \"Training Accuracy\": [],\n",
    "        \"Test Accuracy\": []\n",
    "    }\n",
    "\n",
    "    # Compute accuracy metrics for classifiers\n",
    "    for model_key in [\"rf\", \"gb\", \"svm\", \"knn\", \"dt\", \"ert\", \"ab\", \"xgb\", \"nbg\", \"nbm\", \"nbb\", \"logr\"]:\n",
    "        training_acc, test_acc, _, _ = classifier_function(data, model_key)\n",
    "        classifier_results[\"Training Accuracy\"].append(training_acc)\n",
    "        classifier_results[\"Test Accuracy\"].append(test_acc)\n",
    "\n",
    "    # Store regression results in a separate dictionary\n",
    "    regression_results = {\n",
    "        \"Regressor\": [\"Linear Regression\", \"Ridge\", \"Lasso\"],\n",
    "        \"MSE\": [], \"R Squared\": []\n",
    "    }\n",
    "\n",
    "    # Compute regression metrics\n",
    "    for model_key in [\"linr\", \"ridge\", \"lasso\"]:\n",
    "        _, _, mse, r_squared = classifier_function(data, model_key)\n",
    "        regression_results[\"MSE\"].append(mse)\n",
    "        regression_results[\"R Squared\"].append(r_squared)\n",
    "\n",
    "    # Convert dictionaries to DataFrames and sort\n",
    "    classifier_df = pd.DataFrame(classifier_results).sort_values(\"Test Accuracy\", ascending=False)\n",
    "    regression_df = pd.DataFrame(regression_results).sort_values(\"MSE\", ascending=False)\n",
    "\n",
    "    return classifier_df,regression_df"
   ]
  },
  {
   "cell_type": "markdown",
   "metadata": {},
   "source": [
    "# Datasets"
   ]
  },
  {
   "cell_type": "code",
   "execution_count": 44,
   "metadata": {},
   "outputs": [
    {
     "data": {
      "application/vnd.microsoft.datawrangler.viewer.v0+json": {
       "columns": [
        {
         "name": "index",
         "rawType": "int64",
         "type": "integer"
        },
        {
         "name": "fixed_acidity",
         "rawType": "float64",
         "type": "float"
        },
        {
         "name": "volatile_acidity",
         "rawType": "float64",
         "type": "float"
        },
        {
         "name": "citric_acid",
         "rawType": "float64",
         "type": "float"
        },
        {
         "name": "residual_sugar",
         "rawType": "float64",
         "type": "float"
        },
        {
         "name": "chlorides",
         "rawType": "float64",
         "type": "float"
        },
        {
         "name": "free_sulfur_dioxide",
         "rawType": "float64",
         "type": "float"
        },
        {
         "name": "total_sulfur_dioxide",
         "rawType": "float64",
         "type": "float"
        },
        {
         "name": "density",
         "rawType": "float64",
         "type": "float"
        },
        {
         "name": "pH",
         "rawType": "float64",
         "type": "float"
        },
        {
         "name": "sulphates",
         "rawType": "float64",
         "type": "float"
        },
        {
         "name": "alcohol",
         "rawType": "float64",
         "type": "float"
        },
        {
         "name": "quality",
         "rawType": "int64",
         "type": "integer"
        },
        {
         "name": "color",
         "rawType": "object",
         "type": "string"
        }
       ],
       "conversionMethod": "pd.DataFrame",
       "ref": "7bbe4341-2225-4de5-9bfb-7ac7a4334013",
       "rows": [
        [
         "0",
         "7.4",
         "0.7",
         "0.0",
         "1.9",
         "0.076",
         "11.0",
         "34.0",
         "0.9978",
         "3.51",
         "0.56",
         "9.4",
         "5",
         "red"
        ],
        [
         "1",
         "7.8",
         "0.88",
         "0.0",
         "2.6",
         "0.098",
         "25.0",
         "67.0",
         "0.9968",
         "3.2",
         "0.68",
         "9.8",
         "5",
         "red"
        ],
        [
         "2",
         "7.8",
         "0.76",
         "0.04",
         "2.3",
         "0.092",
         "15.0",
         "54.0",
         "0.997",
         "3.26",
         "0.65",
         "9.8",
         "5",
         "red"
        ],
        [
         "3",
         "11.2",
         "0.28",
         "0.56",
         "1.9",
         "0.075",
         "17.0",
         "60.0",
         "0.998",
         "3.16",
         "0.58",
         "9.8",
         "6",
         "red"
        ],
        [
         "4",
         "7.4",
         "0.7",
         "0.0",
         "1.9",
         "0.076",
         "11.0",
         "34.0",
         "0.9978",
         "3.51",
         "0.56",
         "9.4",
         "5",
         "red"
        ]
       ],
       "shape": {
        "columns": 13,
        "rows": 5
       }
      },
      "text/html": [
       "<div>\n",
       "<style scoped>\n",
       "    .dataframe tbody tr th:only-of-type {\n",
       "        vertical-align: middle;\n",
       "    }\n",
       "\n",
       "    .dataframe tbody tr th {\n",
       "        vertical-align: top;\n",
       "    }\n",
       "\n",
       "    .dataframe thead th {\n",
       "        text-align: right;\n",
       "    }\n",
       "</style>\n",
       "<table border=\"1\" class=\"dataframe\">\n",
       "  <thead>\n",
       "    <tr style=\"text-align: right;\">\n",
       "      <th></th>\n",
       "      <th>fixed_acidity</th>\n",
       "      <th>volatile_acidity</th>\n",
       "      <th>citric_acid</th>\n",
       "      <th>residual_sugar</th>\n",
       "      <th>chlorides</th>\n",
       "      <th>free_sulfur_dioxide</th>\n",
       "      <th>total_sulfur_dioxide</th>\n",
       "      <th>density</th>\n",
       "      <th>pH</th>\n",
       "      <th>sulphates</th>\n",
       "      <th>alcohol</th>\n",
       "      <th>quality</th>\n",
       "      <th>color</th>\n",
       "    </tr>\n",
       "  </thead>\n",
       "  <tbody>\n",
       "    <tr>\n",
       "      <th>0</th>\n",
       "      <td>7.4</td>\n",
       "      <td>0.70</td>\n",
       "      <td>0.00</td>\n",
       "      <td>1.9</td>\n",
       "      <td>0.076</td>\n",
       "      <td>11.0</td>\n",
       "      <td>34.0</td>\n",
       "      <td>0.9978</td>\n",
       "      <td>3.51</td>\n",
       "      <td>0.56</td>\n",
       "      <td>9.4</td>\n",
       "      <td>5</td>\n",
       "      <td>red</td>\n",
       "    </tr>\n",
       "    <tr>\n",
       "      <th>1</th>\n",
       "      <td>7.8</td>\n",
       "      <td>0.88</td>\n",
       "      <td>0.00</td>\n",
       "      <td>2.6</td>\n",
       "      <td>0.098</td>\n",
       "      <td>25.0</td>\n",
       "      <td>67.0</td>\n",
       "      <td>0.9968</td>\n",
       "      <td>3.20</td>\n",
       "      <td>0.68</td>\n",
       "      <td>9.8</td>\n",
       "      <td>5</td>\n",
       "      <td>red</td>\n",
       "    </tr>\n",
       "    <tr>\n",
       "      <th>2</th>\n",
       "      <td>7.8</td>\n",
       "      <td>0.76</td>\n",
       "      <td>0.04</td>\n",
       "      <td>2.3</td>\n",
       "      <td>0.092</td>\n",
       "      <td>15.0</td>\n",
       "      <td>54.0</td>\n",
       "      <td>0.9970</td>\n",
       "      <td>3.26</td>\n",
       "      <td>0.65</td>\n",
       "      <td>9.8</td>\n",
       "      <td>5</td>\n",
       "      <td>red</td>\n",
       "    </tr>\n",
       "    <tr>\n",
       "      <th>3</th>\n",
       "      <td>11.2</td>\n",
       "      <td>0.28</td>\n",
       "      <td>0.56</td>\n",
       "      <td>1.9</td>\n",
       "      <td>0.075</td>\n",
       "      <td>17.0</td>\n",
       "      <td>60.0</td>\n",
       "      <td>0.9980</td>\n",
       "      <td>3.16</td>\n",
       "      <td>0.58</td>\n",
       "      <td>9.8</td>\n",
       "      <td>6</td>\n",
       "      <td>red</td>\n",
       "    </tr>\n",
       "    <tr>\n",
       "      <th>4</th>\n",
       "      <td>7.4</td>\n",
       "      <td>0.70</td>\n",
       "      <td>0.00</td>\n",
       "      <td>1.9</td>\n",
       "      <td>0.076</td>\n",
       "      <td>11.0</td>\n",
       "      <td>34.0</td>\n",
       "      <td>0.9978</td>\n",
       "      <td>3.51</td>\n",
       "      <td>0.56</td>\n",
       "      <td>9.4</td>\n",
       "      <td>5</td>\n",
       "      <td>red</td>\n",
       "    </tr>\n",
       "  </tbody>\n",
       "</table>\n",
       "</div>"
      ],
      "text/plain": [
       "   fixed_acidity  volatile_acidity  citric_acid  residual_sugar  chlorides  \\\n",
       "0            7.4              0.70         0.00             1.9      0.076   \n",
       "1            7.8              0.88         0.00             2.6      0.098   \n",
       "2            7.8              0.76         0.04             2.3      0.092   \n",
       "3           11.2              0.28         0.56             1.9      0.075   \n",
       "4            7.4              0.70         0.00             1.9      0.076   \n",
       "\n",
       "   free_sulfur_dioxide  total_sulfur_dioxide  density    pH  sulphates  \\\n",
       "0                 11.0                  34.0   0.9978  3.51       0.56   \n",
       "1                 25.0                  67.0   0.9968  3.20       0.68   \n",
       "2                 15.0                  54.0   0.9970  3.26       0.65   \n",
       "3                 17.0                  60.0   0.9980  3.16       0.58   \n",
       "4                 11.0                  34.0   0.9978  3.51       0.56   \n",
       "\n",
       "   alcohol  quality color  \n",
       "0      9.4        5   red  \n",
       "1      9.8        5   red  \n",
       "2      9.8        5   red  \n",
       "3      9.8        6   red  \n",
       "4      9.4        5   red  "
      ]
     },
     "metadata": {},
     "output_type": "display_data"
    },
    {
     "name": "stdout",
     "output_type": "stream",
     "text": [
      "<class 'pandas.core.frame.DataFrame'>\n",
      "RangeIndex: 6497 entries, 0 to 6496\n",
      "Data columns (total 13 columns):\n",
      " #   Column                Non-Null Count  Dtype  \n",
      "---  ------                --------------  -----  \n",
      " 0   fixed_acidity         6497 non-null   float64\n",
      " 1   volatile_acidity      6497 non-null   float64\n",
      " 2   citric_acid           6497 non-null   float64\n",
      " 3   residual_sugar        6497 non-null   float64\n",
      " 4   chlorides             6497 non-null   float64\n",
      " 5   free_sulfur_dioxide   6497 non-null   float64\n",
      " 6   total_sulfur_dioxide  6497 non-null   float64\n",
      " 7   density               6497 non-null   float64\n",
      " 8   pH                    6497 non-null   float64\n",
      " 9   sulphates             6497 non-null   float64\n",
      " 10  alcohol               6497 non-null   float64\n",
      " 11  quality               6497 non-null   int64  \n",
      " 12  color                 6497 non-null   object \n",
      "dtypes: float64(11), int64(1), object(1)\n",
      "memory usage: 660.0+ KB\n"
     ]
    }
   ],
   "source": [
    "#Load dataset\n",
    "wine_data = pd.read_csv('https://archive.ics.uci.edu/static/public/186/data.csv')\n",
    "\n",
    "display(wine_data.head())\n",
    "wine_data.info()"
   ]
  },
  {
   "cell_type": "code",
   "execution_count": 45,
   "metadata": {},
   "outputs": [
    {
     "name": "stdout",
     "output_type": "stream",
     "text": [
      "------------------------Wine Encoded--------------------\n"
     ]
    },
    {
     "data": {
      "application/vnd.microsoft.datawrangler.viewer.v0+json": {
       "columns": [
        {
         "name": "index",
         "rawType": "int64",
         "type": "integer"
        },
        {
         "name": "fixed_acidity",
         "rawType": "float64",
         "type": "float"
        },
        {
         "name": "volatile_acidity",
         "rawType": "float64",
         "type": "float"
        },
        {
         "name": "citric_acid",
         "rawType": "float64",
         "type": "float"
        },
        {
         "name": "residual_sugar",
         "rawType": "float64",
         "type": "float"
        },
        {
         "name": "chlorides",
         "rawType": "float64",
         "type": "float"
        },
        {
         "name": "free_sulfur_dioxide",
         "rawType": "float64",
         "type": "float"
        },
        {
         "name": "total_sulfur_dioxide",
         "rawType": "float64",
         "type": "float"
        },
        {
         "name": "density",
         "rawType": "float64",
         "type": "float"
        },
        {
         "name": "pH",
         "rawType": "float64",
         "type": "float"
        },
        {
         "name": "sulphates",
         "rawType": "float64",
         "type": "float"
        },
        {
         "name": "alcohol",
         "rawType": "float64",
         "type": "float"
        },
        {
         "name": "quality",
         "rawType": "int64",
         "type": "integer"
        },
        {
         "name": "color",
         "rawType": "int32",
         "type": "integer"
        }
       ],
       "conversionMethod": "pd.DataFrame",
       "ref": "6dd86d0e-3196-42c3-9e3c-a96157774fe8",
       "rows": [
        [
         "0",
         "7.4",
         "0.7",
         "0.0",
         "1.9",
         "0.076",
         "11.0",
         "34.0",
         "0.9978",
         "3.51",
         "0.56",
         "9.4",
         "5",
         "0"
        ],
        [
         "1",
         "7.8",
         "0.88",
         "0.0",
         "2.6",
         "0.098",
         "25.0",
         "67.0",
         "0.9968",
         "3.2",
         "0.68",
         "9.8",
         "5",
         "0"
        ],
        [
         "2",
         "7.8",
         "0.76",
         "0.04",
         "2.3",
         "0.092",
         "15.0",
         "54.0",
         "0.997",
         "3.26",
         "0.65",
         "9.8",
         "5",
         "0"
        ],
        [
         "3",
         "11.2",
         "0.28",
         "0.56",
         "1.9",
         "0.075",
         "17.0",
         "60.0",
         "0.998",
         "3.16",
         "0.58",
         "9.8",
         "6",
         "0"
        ],
        [
         "4",
         "7.4",
         "0.7",
         "0.0",
         "1.9",
         "0.076",
         "11.0",
         "34.0",
         "0.9978",
         "3.51",
         "0.56",
         "9.4",
         "5",
         "0"
        ]
       ],
       "shape": {
        "columns": 13,
        "rows": 5
       }
      },
      "text/html": [
       "<div>\n",
       "<style scoped>\n",
       "    .dataframe tbody tr th:only-of-type {\n",
       "        vertical-align: middle;\n",
       "    }\n",
       "\n",
       "    .dataframe tbody tr th {\n",
       "        vertical-align: top;\n",
       "    }\n",
       "\n",
       "    .dataframe thead th {\n",
       "        text-align: right;\n",
       "    }\n",
       "</style>\n",
       "<table border=\"1\" class=\"dataframe\">\n",
       "  <thead>\n",
       "    <tr style=\"text-align: right;\">\n",
       "      <th></th>\n",
       "      <th>fixed_acidity</th>\n",
       "      <th>volatile_acidity</th>\n",
       "      <th>citric_acid</th>\n",
       "      <th>residual_sugar</th>\n",
       "      <th>chlorides</th>\n",
       "      <th>free_sulfur_dioxide</th>\n",
       "      <th>total_sulfur_dioxide</th>\n",
       "      <th>density</th>\n",
       "      <th>pH</th>\n",
       "      <th>sulphates</th>\n",
       "      <th>alcohol</th>\n",
       "      <th>quality</th>\n",
       "      <th>color</th>\n",
       "    </tr>\n",
       "  </thead>\n",
       "  <tbody>\n",
       "    <tr>\n",
       "      <th>0</th>\n",
       "      <td>7.4</td>\n",
       "      <td>0.70</td>\n",
       "      <td>0.00</td>\n",
       "      <td>1.9</td>\n",
       "      <td>0.076</td>\n",
       "      <td>11.0</td>\n",
       "      <td>34.0</td>\n",
       "      <td>0.9978</td>\n",
       "      <td>3.51</td>\n",
       "      <td>0.56</td>\n",
       "      <td>9.4</td>\n",
       "      <td>5</td>\n",
       "      <td>0</td>\n",
       "    </tr>\n",
       "    <tr>\n",
       "      <th>1</th>\n",
       "      <td>7.8</td>\n",
       "      <td>0.88</td>\n",
       "      <td>0.00</td>\n",
       "      <td>2.6</td>\n",
       "      <td>0.098</td>\n",
       "      <td>25.0</td>\n",
       "      <td>67.0</td>\n",
       "      <td>0.9968</td>\n",
       "      <td>3.20</td>\n",
       "      <td>0.68</td>\n",
       "      <td>9.8</td>\n",
       "      <td>5</td>\n",
       "      <td>0</td>\n",
       "    </tr>\n",
       "    <tr>\n",
       "      <th>2</th>\n",
       "      <td>7.8</td>\n",
       "      <td>0.76</td>\n",
       "      <td>0.04</td>\n",
       "      <td>2.3</td>\n",
       "      <td>0.092</td>\n",
       "      <td>15.0</td>\n",
       "      <td>54.0</td>\n",
       "      <td>0.9970</td>\n",
       "      <td>3.26</td>\n",
       "      <td>0.65</td>\n",
       "      <td>9.8</td>\n",
       "      <td>5</td>\n",
       "      <td>0</td>\n",
       "    </tr>\n",
       "    <tr>\n",
       "      <th>3</th>\n",
       "      <td>11.2</td>\n",
       "      <td>0.28</td>\n",
       "      <td>0.56</td>\n",
       "      <td>1.9</td>\n",
       "      <td>0.075</td>\n",
       "      <td>17.0</td>\n",
       "      <td>60.0</td>\n",
       "      <td>0.9980</td>\n",
       "      <td>3.16</td>\n",
       "      <td>0.58</td>\n",
       "      <td>9.8</td>\n",
       "      <td>6</td>\n",
       "      <td>0</td>\n",
       "    </tr>\n",
       "    <tr>\n",
       "      <th>4</th>\n",
       "      <td>7.4</td>\n",
       "      <td>0.70</td>\n",
       "      <td>0.00</td>\n",
       "      <td>1.9</td>\n",
       "      <td>0.076</td>\n",
       "      <td>11.0</td>\n",
       "      <td>34.0</td>\n",
       "      <td>0.9978</td>\n",
       "      <td>3.51</td>\n",
       "      <td>0.56</td>\n",
       "      <td>9.4</td>\n",
       "      <td>5</td>\n",
       "      <td>0</td>\n",
       "    </tr>\n",
       "  </tbody>\n",
       "</table>\n",
       "</div>"
      ],
      "text/plain": [
       "   fixed_acidity  volatile_acidity  citric_acid  residual_sugar  chlorides  \\\n",
       "0            7.4              0.70         0.00             1.9      0.076   \n",
       "1            7.8              0.88         0.00             2.6      0.098   \n",
       "2            7.8              0.76         0.04             2.3      0.092   \n",
       "3           11.2              0.28         0.56             1.9      0.075   \n",
       "4            7.4              0.70         0.00             1.9      0.076   \n",
       "\n",
       "   free_sulfur_dioxide  total_sulfur_dioxide  density    pH  sulphates  \\\n",
       "0                 11.0                  34.0   0.9978  3.51       0.56   \n",
       "1                 25.0                  67.0   0.9968  3.20       0.68   \n",
       "2                 15.0                  54.0   0.9970  3.26       0.65   \n",
       "3                 17.0                  60.0   0.9980  3.16       0.58   \n",
       "4                 11.0                  34.0   0.9978  3.51       0.56   \n",
       "\n",
       "   alcohol  quality  color  \n",
       "0      9.4        5      0  \n",
       "1      9.8        5      0  \n",
       "2      9.8        5      0  \n",
       "3      9.8        6      0  \n",
       "4      9.4        5      0  "
      ]
     },
     "metadata": {},
     "output_type": "display_data"
    },
    {
     "name": "stdout",
     "output_type": "stream",
     "text": [
      "Wine Data Unique Colors [0 1]\n",
      "------------------------Red and White Data--------------------\n"
     ]
    },
    {
     "data": {
      "application/vnd.microsoft.datawrangler.viewer.v0+json": {
       "columns": [
        {
         "name": "index",
         "rawType": "int64",
         "type": "integer"
        },
        {
         "name": "fixed_acidity",
         "rawType": "float64",
         "type": "float"
        },
        {
         "name": "volatile_acidity",
         "rawType": "float64",
         "type": "float"
        },
        {
         "name": "citric_acid",
         "rawType": "float64",
         "type": "float"
        },
        {
         "name": "residual_sugar",
         "rawType": "float64",
         "type": "float"
        },
        {
         "name": "chlorides",
         "rawType": "float64",
         "type": "float"
        },
        {
         "name": "free_sulfur_dioxide",
         "rawType": "float64",
         "type": "float"
        },
        {
         "name": "total_sulfur_dioxide",
         "rawType": "float64",
         "type": "float"
        },
        {
         "name": "density",
         "rawType": "float64",
         "type": "float"
        },
        {
         "name": "pH",
         "rawType": "float64",
         "type": "float"
        },
        {
         "name": "sulphates",
         "rawType": "float64",
         "type": "float"
        },
        {
         "name": "alcohol",
         "rawType": "float64",
         "type": "float"
        },
        {
         "name": "quality",
         "rawType": "int64",
         "type": "integer"
        }
       ],
       "conversionMethod": "pd.DataFrame",
       "ref": "f0169fae-f61e-4297-bf82-ce43e64290e7",
       "rows": [
        [
         "0",
         "7.4",
         "0.7",
         "0.0",
         "1.9",
         "0.076",
         "11.0",
         "34.0",
         "0.9978",
         "3.51",
         "0.56",
         "9.4",
         "5"
        ],
        [
         "1",
         "7.8",
         "0.88",
         "0.0",
         "2.6",
         "0.098",
         "25.0",
         "67.0",
         "0.9968",
         "3.2",
         "0.68",
         "9.8",
         "5"
        ],
        [
         "2",
         "7.8",
         "0.76",
         "0.04",
         "2.3",
         "0.092",
         "15.0",
         "54.0",
         "0.997",
         "3.26",
         "0.65",
         "9.8",
         "5"
        ],
        [
         "3",
         "11.2",
         "0.28",
         "0.56",
         "1.9",
         "0.075",
         "17.0",
         "60.0",
         "0.998",
         "3.16",
         "0.58",
         "9.8",
         "6"
        ],
        [
         "4",
         "7.4",
         "0.7",
         "0.0",
         "1.9",
         "0.076",
         "11.0",
         "34.0",
         "0.9978",
         "3.51",
         "0.56",
         "9.4",
         "5"
        ]
       ],
       "shape": {
        "columns": 12,
        "rows": 5
       }
      },
      "text/html": [
       "<div>\n",
       "<style scoped>\n",
       "    .dataframe tbody tr th:only-of-type {\n",
       "        vertical-align: middle;\n",
       "    }\n",
       "\n",
       "    .dataframe tbody tr th {\n",
       "        vertical-align: top;\n",
       "    }\n",
       "\n",
       "    .dataframe thead th {\n",
       "        text-align: right;\n",
       "    }\n",
       "</style>\n",
       "<table border=\"1\" class=\"dataframe\">\n",
       "  <thead>\n",
       "    <tr style=\"text-align: right;\">\n",
       "      <th></th>\n",
       "      <th>fixed_acidity</th>\n",
       "      <th>volatile_acidity</th>\n",
       "      <th>citric_acid</th>\n",
       "      <th>residual_sugar</th>\n",
       "      <th>chlorides</th>\n",
       "      <th>free_sulfur_dioxide</th>\n",
       "      <th>total_sulfur_dioxide</th>\n",
       "      <th>density</th>\n",
       "      <th>pH</th>\n",
       "      <th>sulphates</th>\n",
       "      <th>alcohol</th>\n",
       "      <th>quality</th>\n",
       "    </tr>\n",
       "  </thead>\n",
       "  <tbody>\n",
       "    <tr>\n",
       "      <th>0</th>\n",
       "      <td>7.4</td>\n",
       "      <td>0.70</td>\n",
       "      <td>0.00</td>\n",
       "      <td>1.9</td>\n",
       "      <td>0.076</td>\n",
       "      <td>11.0</td>\n",
       "      <td>34.0</td>\n",
       "      <td>0.9978</td>\n",
       "      <td>3.51</td>\n",
       "      <td>0.56</td>\n",
       "      <td>9.4</td>\n",
       "      <td>5</td>\n",
       "    </tr>\n",
       "    <tr>\n",
       "      <th>1</th>\n",
       "      <td>7.8</td>\n",
       "      <td>0.88</td>\n",
       "      <td>0.00</td>\n",
       "      <td>2.6</td>\n",
       "      <td>0.098</td>\n",
       "      <td>25.0</td>\n",
       "      <td>67.0</td>\n",
       "      <td>0.9968</td>\n",
       "      <td>3.20</td>\n",
       "      <td>0.68</td>\n",
       "      <td>9.8</td>\n",
       "      <td>5</td>\n",
       "    </tr>\n",
       "    <tr>\n",
       "      <th>2</th>\n",
       "      <td>7.8</td>\n",
       "      <td>0.76</td>\n",
       "      <td>0.04</td>\n",
       "      <td>2.3</td>\n",
       "      <td>0.092</td>\n",
       "      <td>15.0</td>\n",
       "      <td>54.0</td>\n",
       "      <td>0.9970</td>\n",
       "      <td>3.26</td>\n",
       "      <td>0.65</td>\n",
       "      <td>9.8</td>\n",
       "      <td>5</td>\n",
       "    </tr>\n",
       "    <tr>\n",
       "      <th>3</th>\n",
       "      <td>11.2</td>\n",
       "      <td>0.28</td>\n",
       "      <td>0.56</td>\n",
       "      <td>1.9</td>\n",
       "      <td>0.075</td>\n",
       "      <td>17.0</td>\n",
       "      <td>60.0</td>\n",
       "      <td>0.9980</td>\n",
       "      <td>3.16</td>\n",
       "      <td>0.58</td>\n",
       "      <td>9.8</td>\n",
       "      <td>6</td>\n",
       "    </tr>\n",
       "    <tr>\n",
       "      <th>4</th>\n",
       "      <td>7.4</td>\n",
       "      <td>0.70</td>\n",
       "      <td>0.00</td>\n",
       "      <td>1.9</td>\n",
       "      <td>0.076</td>\n",
       "      <td>11.0</td>\n",
       "      <td>34.0</td>\n",
       "      <td>0.9978</td>\n",
       "      <td>3.51</td>\n",
       "      <td>0.56</td>\n",
       "      <td>9.4</td>\n",
       "      <td>5</td>\n",
       "    </tr>\n",
       "  </tbody>\n",
       "</table>\n",
       "</div>"
      ],
      "text/plain": [
       "   fixed_acidity  volatile_acidity  citric_acid  residual_sugar  chlorides  \\\n",
       "0            7.4              0.70         0.00             1.9      0.076   \n",
       "1            7.8              0.88         0.00             2.6      0.098   \n",
       "2            7.8              0.76         0.04             2.3      0.092   \n",
       "3           11.2              0.28         0.56             1.9      0.075   \n",
       "4            7.4              0.70         0.00             1.9      0.076   \n",
       "\n",
       "   free_sulfur_dioxide  total_sulfur_dioxide  density    pH  sulphates  \\\n",
       "0                 11.0                  34.0   0.9978  3.51       0.56   \n",
       "1                 25.0                  67.0   0.9968  3.20       0.68   \n",
       "2                 15.0                  54.0   0.9970  3.26       0.65   \n",
       "3                 17.0                  60.0   0.9980  3.16       0.58   \n",
       "4                 11.0                  34.0   0.9978  3.51       0.56   \n",
       "\n",
       "   alcohol  quality  \n",
       "0      9.4        5  \n",
       "1      9.8        5  \n",
       "2      9.8        5  \n",
       "3      9.8        6  \n",
       "4      9.4        5  "
      ]
     },
     "metadata": {},
     "output_type": "display_data"
    },
    {
     "data": {
      "application/vnd.microsoft.datawrangler.viewer.v0+json": {
       "columns": [
        {
         "name": "index",
         "rawType": "int64",
         "type": "integer"
        },
        {
         "name": "fixed_acidity",
         "rawType": "float64",
         "type": "float"
        },
        {
         "name": "volatile_acidity",
         "rawType": "float64",
         "type": "float"
        },
        {
         "name": "citric_acid",
         "rawType": "float64",
         "type": "float"
        },
        {
         "name": "residual_sugar",
         "rawType": "float64",
         "type": "float"
        },
        {
         "name": "chlorides",
         "rawType": "float64",
         "type": "float"
        },
        {
         "name": "free_sulfur_dioxide",
         "rawType": "float64",
         "type": "float"
        },
        {
         "name": "total_sulfur_dioxide",
         "rawType": "float64",
         "type": "float"
        },
        {
         "name": "density",
         "rawType": "float64",
         "type": "float"
        },
        {
         "name": "pH",
         "rawType": "float64",
         "type": "float"
        },
        {
         "name": "sulphates",
         "rawType": "float64",
         "type": "float"
        },
        {
         "name": "alcohol",
         "rawType": "float64",
         "type": "float"
        },
        {
         "name": "quality",
         "rawType": "int64",
         "type": "integer"
        }
       ],
       "conversionMethod": "pd.DataFrame",
       "ref": "a81b54ec-8211-477a-8f75-72aca3bd533c",
       "rows": [
        [
         "1599",
         "7.0",
         "0.27",
         "0.36",
         "20.7",
         "0.045",
         "45.0",
         "170.0",
         "1.001",
         "3.0",
         "0.45",
         "8.8",
         "6"
        ],
        [
         "1600",
         "6.3",
         "0.3",
         "0.34",
         "1.6",
         "0.049",
         "14.0",
         "132.0",
         "0.994",
         "3.3",
         "0.49",
         "9.5",
         "6"
        ],
        [
         "1601",
         "8.1",
         "0.28",
         "0.4",
         "6.9",
         "0.05",
         "30.0",
         "97.0",
         "0.9951",
         "3.26",
         "0.44",
         "10.1",
         "6"
        ],
        [
         "1602",
         "7.2",
         "0.23",
         "0.32",
         "8.5",
         "0.058",
         "47.0",
         "186.0",
         "0.9956",
         "3.19",
         "0.4",
         "9.9",
         "6"
        ],
        [
         "1603",
         "7.2",
         "0.23",
         "0.32",
         "8.5",
         "0.058",
         "47.0",
         "186.0",
         "0.9956",
         "3.19",
         "0.4",
         "9.9",
         "6"
        ]
       ],
       "shape": {
        "columns": 12,
        "rows": 5
       }
      },
      "text/html": [
       "<div>\n",
       "<style scoped>\n",
       "    .dataframe tbody tr th:only-of-type {\n",
       "        vertical-align: middle;\n",
       "    }\n",
       "\n",
       "    .dataframe tbody tr th {\n",
       "        vertical-align: top;\n",
       "    }\n",
       "\n",
       "    .dataframe thead th {\n",
       "        text-align: right;\n",
       "    }\n",
       "</style>\n",
       "<table border=\"1\" class=\"dataframe\">\n",
       "  <thead>\n",
       "    <tr style=\"text-align: right;\">\n",
       "      <th></th>\n",
       "      <th>fixed_acidity</th>\n",
       "      <th>volatile_acidity</th>\n",
       "      <th>citric_acid</th>\n",
       "      <th>residual_sugar</th>\n",
       "      <th>chlorides</th>\n",
       "      <th>free_sulfur_dioxide</th>\n",
       "      <th>total_sulfur_dioxide</th>\n",
       "      <th>density</th>\n",
       "      <th>pH</th>\n",
       "      <th>sulphates</th>\n",
       "      <th>alcohol</th>\n",
       "      <th>quality</th>\n",
       "    </tr>\n",
       "  </thead>\n",
       "  <tbody>\n",
       "    <tr>\n",
       "      <th>1599</th>\n",
       "      <td>7.0</td>\n",
       "      <td>0.27</td>\n",
       "      <td>0.36</td>\n",
       "      <td>20.7</td>\n",
       "      <td>0.045</td>\n",
       "      <td>45.0</td>\n",
       "      <td>170.0</td>\n",
       "      <td>1.0010</td>\n",
       "      <td>3.00</td>\n",
       "      <td>0.45</td>\n",
       "      <td>8.8</td>\n",
       "      <td>6</td>\n",
       "    </tr>\n",
       "    <tr>\n",
       "      <th>1600</th>\n",
       "      <td>6.3</td>\n",
       "      <td>0.30</td>\n",
       "      <td>0.34</td>\n",
       "      <td>1.6</td>\n",
       "      <td>0.049</td>\n",
       "      <td>14.0</td>\n",
       "      <td>132.0</td>\n",
       "      <td>0.9940</td>\n",
       "      <td>3.30</td>\n",
       "      <td>0.49</td>\n",
       "      <td>9.5</td>\n",
       "      <td>6</td>\n",
       "    </tr>\n",
       "    <tr>\n",
       "      <th>1601</th>\n",
       "      <td>8.1</td>\n",
       "      <td>0.28</td>\n",
       "      <td>0.40</td>\n",
       "      <td>6.9</td>\n",
       "      <td>0.050</td>\n",
       "      <td>30.0</td>\n",
       "      <td>97.0</td>\n",
       "      <td>0.9951</td>\n",
       "      <td>3.26</td>\n",
       "      <td>0.44</td>\n",
       "      <td>10.1</td>\n",
       "      <td>6</td>\n",
       "    </tr>\n",
       "    <tr>\n",
       "      <th>1602</th>\n",
       "      <td>7.2</td>\n",
       "      <td>0.23</td>\n",
       "      <td>0.32</td>\n",
       "      <td>8.5</td>\n",
       "      <td>0.058</td>\n",
       "      <td>47.0</td>\n",
       "      <td>186.0</td>\n",
       "      <td>0.9956</td>\n",
       "      <td>3.19</td>\n",
       "      <td>0.40</td>\n",
       "      <td>9.9</td>\n",
       "      <td>6</td>\n",
       "    </tr>\n",
       "    <tr>\n",
       "      <th>1603</th>\n",
       "      <td>7.2</td>\n",
       "      <td>0.23</td>\n",
       "      <td>0.32</td>\n",
       "      <td>8.5</td>\n",
       "      <td>0.058</td>\n",
       "      <td>47.0</td>\n",
       "      <td>186.0</td>\n",
       "      <td>0.9956</td>\n",
       "      <td>3.19</td>\n",
       "      <td>0.40</td>\n",
       "      <td>9.9</td>\n",
       "      <td>6</td>\n",
       "    </tr>\n",
       "  </tbody>\n",
       "</table>\n",
       "</div>"
      ],
      "text/plain": [
       "      fixed_acidity  volatile_acidity  citric_acid  residual_sugar  chlorides  \\\n",
       "1599            7.0              0.27         0.36            20.7      0.045   \n",
       "1600            6.3              0.30         0.34             1.6      0.049   \n",
       "1601            8.1              0.28         0.40             6.9      0.050   \n",
       "1602            7.2              0.23         0.32             8.5      0.058   \n",
       "1603            7.2              0.23         0.32             8.5      0.058   \n",
       "\n",
       "      free_sulfur_dioxide  total_sulfur_dioxide  density    pH  sulphates  \\\n",
       "1599                 45.0                 170.0   1.0010  3.00       0.45   \n",
       "1600                 14.0                 132.0   0.9940  3.30       0.49   \n",
       "1601                 30.0                  97.0   0.9951  3.26       0.44   \n",
       "1602                 47.0                 186.0   0.9956  3.19       0.40   \n",
       "1603                 47.0                 186.0   0.9956  3.19       0.40   \n",
       "\n",
       "      alcohol  quality  \n",
       "1599      8.8        6  \n",
       "1600      9.5        6  \n",
       "1601     10.1        6  \n",
       "1602      9.9        6  \n",
       "1603      9.9        6  "
      ]
     },
     "metadata": {},
     "output_type": "display_data"
    },
    {
     "name": "stdout",
     "output_type": "stream",
     "text": [
      "------------------------Quality Categorized Data--------------------\n"
     ]
    },
    {
     "data": {
      "application/vnd.microsoft.datawrangler.viewer.v0+json": {
       "columns": [
        {
         "name": "index",
         "rawType": "int64",
         "type": "integer"
        },
        {
         "name": "fixed_acidity",
         "rawType": "float64",
         "type": "float"
        },
        {
         "name": "volatile_acidity",
         "rawType": "float64",
         "type": "float"
        },
        {
         "name": "citric_acid",
         "rawType": "float64",
         "type": "float"
        },
        {
         "name": "residual_sugar",
         "rawType": "float64",
         "type": "float"
        },
        {
         "name": "chlorides",
         "rawType": "float64",
         "type": "float"
        },
        {
         "name": "free_sulfur_dioxide",
         "rawType": "float64",
         "type": "float"
        },
        {
         "name": "total_sulfur_dioxide",
         "rawType": "float64",
         "type": "float"
        },
        {
         "name": "density",
         "rawType": "float64",
         "type": "float"
        },
        {
         "name": "pH",
         "rawType": "float64",
         "type": "float"
        },
        {
         "name": "sulphates",
         "rawType": "float64",
         "type": "float"
        },
        {
         "name": "alcohol",
         "rawType": "float64",
         "type": "float"
        },
        {
         "name": "quality",
         "rawType": "int32",
         "type": "integer"
        }
       ],
       "conversionMethod": "pd.DataFrame",
       "ref": "a3aaf914-0db1-480b-87c8-d0d164b38a41",
       "rows": [
        [
         "0",
         "7.4",
         "0.7",
         "0.0",
         "1.9",
         "0.076",
         "11.0",
         "34.0",
         "0.9978",
         "3.51",
         "0.56",
         "9.4",
         "1"
        ],
        [
         "1",
         "7.8",
         "0.88",
         "0.0",
         "2.6",
         "0.098",
         "25.0",
         "67.0",
         "0.9968",
         "3.2",
         "0.68",
         "9.8",
         "1"
        ],
        [
         "2",
         "7.8",
         "0.76",
         "0.04",
         "2.3",
         "0.092",
         "15.0",
         "54.0",
         "0.997",
         "3.26",
         "0.65",
         "9.8",
         "1"
        ],
        [
         "3",
         "11.2",
         "0.28",
         "0.56",
         "1.9",
         "0.075",
         "17.0",
         "60.0",
         "0.998",
         "3.16",
         "0.58",
         "9.8",
         "2"
        ],
        [
         "4",
         "7.4",
         "0.7",
         "0.0",
         "1.9",
         "0.076",
         "11.0",
         "34.0",
         "0.9978",
         "3.51",
         "0.56",
         "9.4",
         "1"
        ]
       ],
       "shape": {
        "columns": 12,
        "rows": 5
       }
      },
      "text/html": [
       "<div>\n",
       "<style scoped>\n",
       "    .dataframe tbody tr th:only-of-type {\n",
       "        vertical-align: middle;\n",
       "    }\n",
       "\n",
       "    .dataframe tbody tr th {\n",
       "        vertical-align: top;\n",
       "    }\n",
       "\n",
       "    .dataframe thead th {\n",
       "        text-align: right;\n",
       "    }\n",
       "</style>\n",
       "<table border=\"1\" class=\"dataframe\">\n",
       "  <thead>\n",
       "    <tr style=\"text-align: right;\">\n",
       "      <th></th>\n",
       "      <th>fixed_acidity</th>\n",
       "      <th>volatile_acidity</th>\n",
       "      <th>citric_acid</th>\n",
       "      <th>residual_sugar</th>\n",
       "      <th>chlorides</th>\n",
       "      <th>free_sulfur_dioxide</th>\n",
       "      <th>total_sulfur_dioxide</th>\n",
       "      <th>density</th>\n",
       "      <th>pH</th>\n",
       "      <th>sulphates</th>\n",
       "      <th>alcohol</th>\n",
       "      <th>quality</th>\n",
       "    </tr>\n",
       "  </thead>\n",
       "  <tbody>\n",
       "    <tr>\n",
       "      <th>0</th>\n",
       "      <td>7.4</td>\n",
       "      <td>0.70</td>\n",
       "      <td>0.00</td>\n",
       "      <td>1.9</td>\n",
       "      <td>0.076</td>\n",
       "      <td>11.0</td>\n",
       "      <td>34.0</td>\n",
       "      <td>0.9978</td>\n",
       "      <td>3.51</td>\n",
       "      <td>0.56</td>\n",
       "      <td>9.4</td>\n",
       "      <td>1</td>\n",
       "    </tr>\n",
       "    <tr>\n",
       "      <th>1</th>\n",
       "      <td>7.8</td>\n",
       "      <td>0.88</td>\n",
       "      <td>0.00</td>\n",
       "      <td>2.6</td>\n",
       "      <td>0.098</td>\n",
       "      <td>25.0</td>\n",
       "      <td>67.0</td>\n",
       "      <td>0.9968</td>\n",
       "      <td>3.20</td>\n",
       "      <td>0.68</td>\n",
       "      <td>9.8</td>\n",
       "      <td>1</td>\n",
       "    </tr>\n",
       "    <tr>\n",
       "      <th>2</th>\n",
       "      <td>7.8</td>\n",
       "      <td>0.76</td>\n",
       "      <td>0.04</td>\n",
       "      <td>2.3</td>\n",
       "      <td>0.092</td>\n",
       "      <td>15.0</td>\n",
       "      <td>54.0</td>\n",
       "      <td>0.9970</td>\n",
       "      <td>3.26</td>\n",
       "      <td>0.65</td>\n",
       "      <td>9.8</td>\n",
       "      <td>1</td>\n",
       "    </tr>\n",
       "    <tr>\n",
       "      <th>3</th>\n",
       "      <td>11.2</td>\n",
       "      <td>0.28</td>\n",
       "      <td>0.56</td>\n",
       "      <td>1.9</td>\n",
       "      <td>0.075</td>\n",
       "      <td>17.0</td>\n",
       "      <td>60.0</td>\n",
       "      <td>0.9980</td>\n",
       "      <td>3.16</td>\n",
       "      <td>0.58</td>\n",
       "      <td>9.8</td>\n",
       "      <td>2</td>\n",
       "    </tr>\n",
       "    <tr>\n",
       "      <th>4</th>\n",
       "      <td>7.4</td>\n",
       "      <td>0.70</td>\n",
       "      <td>0.00</td>\n",
       "      <td>1.9</td>\n",
       "      <td>0.076</td>\n",
       "      <td>11.0</td>\n",
       "      <td>34.0</td>\n",
       "      <td>0.9978</td>\n",
       "      <td>3.51</td>\n",
       "      <td>0.56</td>\n",
       "      <td>9.4</td>\n",
       "      <td>1</td>\n",
       "    </tr>\n",
       "  </tbody>\n",
       "</table>\n",
       "</div>"
      ],
      "text/plain": [
       "   fixed_acidity  volatile_acidity  citric_acid  residual_sugar  chlorides  \\\n",
       "0            7.4              0.70         0.00             1.9      0.076   \n",
       "1            7.8              0.88         0.00             2.6      0.098   \n",
       "2            7.8              0.76         0.04             2.3      0.092   \n",
       "3           11.2              0.28         0.56             1.9      0.075   \n",
       "4            7.4              0.70         0.00             1.9      0.076   \n",
       "\n",
       "   free_sulfur_dioxide  total_sulfur_dioxide  density    pH  sulphates  \\\n",
       "0                 11.0                  34.0   0.9978  3.51       0.56   \n",
       "1                 25.0                  67.0   0.9968  3.20       0.68   \n",
       "2                 15.0                  54.0   0.9970  3.26       0.65   \n",
       "3                 17.0                  60.0   0.9980  3.16       0.58   \n",
       "4                 11.0                  34.0   0.9978  3.51       0.56   \n",
       "\n",
       "   alcohol  quality  \n",
       "0      9.4        1  \n",
       "1      9.8        1  \n",
       "2      9.8        1  \n",
       "3      9.8        2  \n",
       "4      9.4        1  "
      ]
     },
     "metadata": {},
     "output_type": "display_data"
    },
    {
     "name": "stdout",
     "output_type": "stream",
     "text": [
      "Red Wine Unique Qualities: [1 2 3]\n",
      "Red Wine Shape: (1599, 12)\n"
     ]
    },
    {
     "data": {
      "application/vnd.microsoft.datawrangler.viewer.v0+json": {
       "columns": [
        {
         "name": "index",
         "rawType": "int64",
         "type": "integer"
        },
        {
         "name": "fixed_acidity",
         "rawType": "float64",
         "type": "float"
        },
        {
         "name": "volatile_acidity",
         "rawType": "float64",
         "type": "float"
        },
        {
         "name": "citric_acid",
         "rawType": "float64",
         "type": "float"
        },
        {
         "name": "residual_sugar",
         "rawType": "float64",
         "type": "float"
        },
        {
         "name": "chlorides",
         "rawType": "float64",
         "type": "float"
        },
        {
         "name": "free_sulfur_dioxide",
         "rawType": "float64",
         "type": "float"
        },
        {
         "name": "total_sulfur_dioxide",
         "rawType": "float64",
         "type": "float"
        },
        {
         "name": "density",
         "rawType": "float64",
         "type": "float"
        },
        {
         "name": "pH",
         "rawType": "float64",
         "type": "float"
        },
        {
         "name": "sulphates",
         "rawType": "float64",
         "type": "float"
        },
        {
         "name": "alcohol",
         "rawType": "float64",
         "type": "float"
        },
        {
         "name": "quality",
         "rawType": "int32",
         "type": "integer"
        }
       ],
       "conversionMethod": "pd.DataFrame",
       "ref": "415c06ba-a807-46d5-8d38-59db44753f26",
       "rows": [
        [
         "1599",
         "7.0",
         "0.27",
         "0.36",
         "20.7",
         "0.045",
         "45.0",
         "170.0",
         "1.001",
         "3.0",
         "0.45",
         "8.8",
         "2"
        ],
        [
         "1600",
         "6.3",
         "0.3",
         "0.34",
         "1.6",
         "0.049",
         "14.0",
         "132.0",
         "0.994",
         "3.3",
         "0.49",
         "9.5",
         "2"
        ],
        [
         "1601",
         "8.1",
         "0.28",
         "0.4",
         "6.9",
         "0.05",
         "30.0",
         "97.0",
         "0.9951",
         "3.26",
         "0.44",
         "10.1",
         "2"
        ],
        [
         "1602",
         "7.2",
         "0.23",
         "0.32",
         "8.5",
         "0.058",
         "47.0",
         "186.0",
         "0.9956",
         "3.19",
         "0.4",
         "9.9",
         "2"
        ],
        [
         "1603",
         "7.2",
         "0.23",
         "0.32",
         "8.5",
         "0.058",
         "47.0",
         "186.0",
         "0.9956",
         "3.19",
         "0.4",
         "9.9",
         "2"
        ]
       ],
       "shape": {
        "columns": 12,
        "rows": 5
       }
      },
      "text/html": [
       "<div>\n",
       "<style scoped>\n",
       "    .dataframe tbody tr th:only-of-type {\n",
       "        vertical-align: middle;\n",
       "    }\n",
       "\n",
       "    .dataframe tbody tr th {\n",
       "        vertical-align: top;\n",
       "    }\n",
       "\n",
       "    .dataframe thead th {\n",
       "        text-align: right;\n",
       "    }\n",
       "</style>\n",
       "<table border=\"1\" class=\"dataframe\">\n",
       "  <thead>\n",
       "    <tr style=\"text-align: right;\">\n",
       "      <th></th>\n",
       "      <th>fixed_acidity</th>\n",
       "      <th>volatile_acidity</th>\n",
       "      <th>citric_acid</th>\n",
       "      <th>residual_sugar</th>\n",
       "      <th>chlorides</th>\n",
       "      <th>free_sulfur_dioxide</th>\n",
       "      <th>total_sulfur_dioxide</th>\n",
       "      <th>density</th>\n",
       "      <th>pH</th>\n",
       "      <th>sulphates</th>\n",
       "      <th>alcohol</th>\n",
       "      <th>quality</th>\n",
       "    </tr>\n",
       "  </thead>\n",
       "  <tbody>\n",
       "    <tr>\n",
       "      <th>1599</th>\n",
       "      <td>7.0</td>\n",
       "      <td>0.27</td>\n",
       "      <td>0.36</td>\n",
       "      <td>20.7</td>\n",
       "      <td>0.045</td>\n",
       "      <td>45.0</td>\n",
       "      <td>170.0</td>\n",
       "      <td>1.0010</td>\n",
       "      <td>3.00</td>\n",
       "      <td>0.45</td>\n",
       "      <td>8.8</td>\n",
       "      <td>2</td>\n",
       "    </tr>\n",
       "    <tr>\n",
       "      <th>1600</th>\n",
       "      <td>6.3</td>\n",
       "      <td>0.30</td>\n",
       "      <td>0.34</td>\n",
       "      <td>1.6</td>\n",
       "      <td>0.049</td>\n",
       "      <td>14.0</td>\n",
       "      <td>132.0</td>\n",
       "      <td>0.9940</td>\n",
       "      <td>3.30</td>\n",
       "      <td>0.49</td>\n",
       "      <td>9.5</td>\n",
       "      <td>2</td>\n",
       "    </tr>\n",
       "    <tr>\n",
       "      <th>1601</th>\n",
       "      <td>8.1</td>\n",
       "      <td>0.28</td>\n",
       "      <td>0.40</td>\n",
       "      <td>6.9</td>\n",
       "      <td>0.050</td>\n",
       "      <td>30.0</td>\n",
       "      <td>97.0</td>\n",
       "      <td>0.9951</td>\n",
       "      <td>3.26</td>\n",
       "      <td>0.44</td>\n",
       "      <td>10.1</td>\n",
       "      <td>2</td>\n",
       "    </tr>\n",
       "    <tr>\n",
       "      <th>1602</th>\n",
       "      <td>7.2</td>\n",
       "      <td>0.23</td>\n",
       "      <td>0.32</td>\n",
       "      <td>8.5</td>\n",
       "      <td>0.058</td>\n",
       "      <td>47.0</td>\n",
       "      <td>186.0</td>\n",
       "      <td>0.9956</td>\n",
       "      <td>3.19</td>\n",
       "      <td>0.40</td>\n",
       "      <td>9.9</td>\n",
       "      <td>2</td>\n",
       "    </tr>\n",
       "    <tr>\n",
       "      <th>1603</th>\n",
       "      <td>7.2</td>\n",
       "      <td>0.23</td>\n",
       "      <td>0.32</td>\n",
       "      <td>8.5</td>\n",
       "      <td>0.058</td>\n",
       "      <td>47.0</td>\n",
       "      <td>186.0</td>\n",
       "      <td>0.9956</td>\n",
       "      <td>3.19</td>\n",
       "      <td>0.40</td>\n",
       "      <td>9.9</td>\n",
       "      <td>2</td>\n",
       "    </tr>\n",
       "  </tbody>\n",
       "</table>\n",
       "</div>"
      ],
      "text/plain": [
       "      fixed_acidity  volatile_acidity  citric_acid  residual_sugar  chlorides  \\\n",
       "1599            7.0              0.27         0.36            20.7      0.045   \n",
       "1600            6.3              0.30         0.34             1.6      0.049   \n",
       "1601            8.1              0.28         0.40             6.9      0.050   \n",
       "1602            7.2              0.23         0.32             8.5      0.058   \n",
       "1603            7.2              0.23         0.32             8.5      0.058   \n",
       "\n",
       "      free_sulfur_dioxide  total_sulfur_dioxide  density    pH  sulphates  \\\n",
       "1599                 45.0                 170.0   1.0010  3.00       0.45   \n",
       "1600                 14.0                 132.0   0.9940  3.30       0.49   \n",
       "1601                 30.0                  97.0   0.9951  3.26       0.44   \n",
       "1602                 47.0                 186.0   0.9956  3.19       0.40   \n",
       "1603                 47.0                 186.0   0.9956  3.19       0.40   \n",
       "\n",
       "      alcohol  quality  \n",
       "1599      8.8        2  \n",
       "1600      9.5        2  \n",
       "1601     10.1        2  \n",
       "1602      9.9        2  \n",
       "1603      9.9        2  "
      ]
     },
     "metadata": {},
     "output_type": "display_data"
    },
    {
     "name": "stdout",
     "output_type": "stream",
     "text": [
      "White Wine Unique Qualities: [2 1 3]\n",
      "White Wine Shape: (4898, 12)\n"
     ]
    },
    {
     "data": {
      "application/vnd.microsoft.datawrangler.viewer.v0+json": {
       "columns": [
        {
         "name": "index",
         "rawType": "int64",
         "type": "integer"
        },
        {
         "name": "fixed_acidity",
         "rawType": "float64",
         "type": "float"
        },
        {
         "name": "volatile_acidity",
         "rawType": "float64",
         "type": "float"
        },
        {
         "name": "citric_acid",
         "rawType": "float64",
         "type": "float"
        },
        {
         "name": "residual_sugar",
         "rawType": "float64",
         "type": "float"
        },
        {
         "name": "chlorides",
         "rawType": "float64",
         "type": "float"
        },
        {
         "name": "free_sulfur_dioxide",
         "rawType": "float64",
         "type": "float"
        },
        {
         "name": "total_sulfur_dioxide",
         "rawType": "float64",
         "type": "float"
        },
        {
         "name": "density",
         "rawType": "float64",
         "type": "float"
        },
        {
         "name": "pH",
         "rawType": "float64",
         "type": "float"
        },
        {
         "name": "sulphates",
         "rawType": "float64",
         "type": "float"
        },
        {
         "name": "alcohol",
         "rawType": "float64",
         "type": "float"
        },
        {
         "name": "quality",
         "rawType": "int32",
         "type": "integer"
        },
        {
         "name": "color",
         "rawType": "int32",
         "type": "integer"
        }
       ],
       "conversionMethod": "pd.DataFrame",
       "ref": "9e57342f-45bc-4f9e-8bc9-68cfc90d813b",
       "rows": [
        [
         "0",
         "7.4",
         "0.7",
         "0.0",
         "1.9",
         "0.076",
         "11.0",
         "34.0",
         "0.9978",
         "3.51",
         "0.56",
         "9.4",
         "1",
         "0"
        ],
        [
         "1",
         "7.8",
         "0.88",
         "0.0",
         "2.6",
         "0.098",
         "25.0",
         "67.0",
         "0.9968",
         "3.2",
         "0.68",
         "9.8",
         "1",
         "0"
        ],
        [
         "2",
         "7.8",
         "0.76",
         "0.04",
         "2.3",
         "0.092",
         "15.0",
         "54.0",
         "0.997",
         "3.26",
         "0.65",
         "9.8",
         "1",
         "0"
        ],
        [
         "3",
         "11.2",
         "0.28",
         "0.56",
         "1.9",
         "0.075",
         "17.0",
         "60.0",
         "0.998",
         "3.16",
         "0.58",
         "9.8",
         "2",
         "0"
        ],
        [
         "4",
         "7.4",
         "0.7",
         "0.0",
         "1.9",
         "0.076",
         "11.0",
         "34.0",
         "0.9978",
         "3.51",
         "0.56",
         "9.4",
         "1",
         "0"
        ]
       ],
       "shape": {
        "columns": 13,
        "rows": 5
       }
      },
      "text/html": [
       "<div>\n",
       "<style scoped>\n",
       "    .dataframe tbody tr th:only-of-type {\n",
       "        vertical-align: middle;\n",
       "    }\n",
       "\n",
       "    .dataframe tbody tr th {\n",
       "        vertical-align: top;\n",
       "    }\n",
       "\n",
       "    .dataframe thead th {\n",
       "        text-align: right;\n",
       "    }\n",
       "</style>\n",
       "<table border=\"1\" class=\"dataframe\">\n",
       "  <thead>\n",
       "    <tr style=\"text-align: right;\">\n",
       "      <th></th>\n",
       "      <th>fixed_acidity</th>\n",
       "      <th>volatile_acidity</th>\n",
       "      <th>citric_acid</th>\n",
       "      <th>residual_sugar</th>\n",
       "      <th>chlorides</th>\n",
       "      <th>free_sulfur_dioxide</th>\n",
       "      <th>total_sulfur_dioxide</th>\n",
       "      <th>density</th>\n",
       "      <th>pH</th>\n",
       "      <th>sulphates</th>\n",
       "      <th>alcohol</th>\n",
       "      <th>quality</th>\n",
       "      <th>color</th>\n",
       "    </tr>\n",
       "  </thead>\n",
       "  <tbody>\n",
       "    <tr>\n",
       "      <th>0</th>\n",
       "      <td>7.4</td>\n",
       "      <td>0.70</td>\n",
       "      <td>0.00</td>\n",
       "      <td>1.9</td>\n",
       "      <td>0.076</td>\n",
       "      <td>11.0</td>\n",
       "      <td>34.0</td>\n",
       "      <td>0.9978</td>\n",
       "      <td>3.51</td>\n",
       "      <td>0.56</td>\n",
       "      <td>9.4</td>\n",
       "      <td>1</td>\n",
       "      <td>0</td>\n",
       "    </tr>\n",
       "    <tr>\n",
       "      <th>1</th>\n",
       "      <td>7.8</td>\n",
       "      <td>0.88</td>\n",
       "      <td>0.00</td>\n",
       "      <td>2.6</td>\n",
       "      <td>0.098</td>\n",
       "      <td>25.0</td>\n",
       "      <td>67.0</td>\n",
       "      <td>0.9968</td>\n",
       "      <td>3.20</td>\n",
       "      <td>0.68</td>\n",
       "      <td>9.8</td>\n",
       "      <td>1</td>\n",
       "      <td>0</td>\n",
       "    </tr>\n",
       "    <tr>\n",
       "      <th>2</th>\n",
       "      <td>7.8</td>\n",
       "      <td>0.76</td>\n",
       "      <td>0.04</td>\n",
       "      <td>2.3</td>\n",
       "      <td>0.092</td>\n",
       "      <td>15.0</td>\n",
       "      <td>54.0</td>\n",
       "      <td>0.9970</td>\n",
       "      <td>3.26</td>\n",
       "      <td>0.65</td>\n",
       "      <td>9.8</td>\n",
       "      <td>1</td>\n",
       "      <td>0</td>\n",
       "    </tr>\n",
       "    <tr>\n",
       "      <th>3</th>\n",
       "      <td>11.2</td>\n",
       "      <td>0.28</td>\n",
       "      <td>0.56</td>\n",
       "      <td>1.9</td>\n",
       "      <td>0.075</td>\n",
       "      <td>17.0</td>\n",
       "      <td>60.0</td>\n",
       "      <td>0.9980</td>\n",
       "      <td>3.16</td>\n",
       "      <td>0.58</td>\n",
       "      <td>9.8</td>\n",
       "      <td>2</td>\n",
       "      <td>0</td>\n",
       "    </tr>\n",
       "    <tr>\n",
       "      <th>4</th>\n",
       "      <td>7.4</td>\n",
       "      <td>0.70</td>\n",
       "      <td>0.00</td>\n",
       "      <td>1.9</td>\n",
       "      <td>0.076</td>\n",
       "      <td>11.0</td>\n",
       "      <td>34.0</td>\n",
       "      <td>0.9978</td>\n",
       "      <td>3.51</td>\n",
       "      <td>0.56</td>\n",
       "      <td>9.4</td>\n",
       "      <td>1</td>\n",
       "      <td>0</td>\n",
       "    </tr>\n",
       "  </tbody>\n",
       "</table>\n",
       "</div>"
      ],
      "text/plain": [
       "   fixed_acidity  volatile_acidity  citric_acid  residual_sugar  chlorides  \\\n",
       "0            7.4              0.70         0.00             1.9      0.076   \n",
       "1            7.8              0.88         0.00             2.6      0.098   \n",
       "2            7.8              0.76         0.04             2.3      0.092   \n",
       "3           11.2              0.28         0.56             1.9      0.075   \n",
       "4            7.4              0.70         0.00             1.9      0.076   \n",
       "\n",
       "   free_sulfur_dioxide  total_sulfur_dioxide  density    pH  sulphates  \\\n",
       "0                 11.0                  34.0   0.9978  3.51       0.56   \n",
       "1                 25.0                  67.0   0.9968  3.20       0.68   \n",
       "2                 15.0                  54.0   0.9970  3.26       0.65   \n",
       "3                 17.0                  60.0   0.9980  3.16       0.58   \n",
       "4                 11.0                  34.0   0.9978  3.51       0.56   \n",
       "\n",
       "   alcohol  quality  color  \n",
       "0      9.4        1      0  \n",
       "1      9.8        1      0  \n",
       "2      9.8        1      0  \n",
       "3      9.8        2      0  \n",
       "4      9.4        1      0  "
      ]
     },
     "metadata": {},
     "output_type": "display_data"
    },
    {
     "name": "stdout",
     "output_type": "stream",
     "text": [
      "All Wine Unique Qualities: [1 2 3]\n",
      "All Wine Shape: (6497, 13)\n"
     ]
    }
   ],
   "source": [
    "#encode wine_data color (0 for red, 1 for white)\n",
    "wine_data_encoded=wine_data.copy()\n",
    "wine_data_encoded[\"color\"]=np.where(wine_data_encoded[\"color\"]==\"red\", 0,\n",
    "                                    np.where(wine_data_encoded[\"color\"]==\"white\", 1, 100))\n",
    "\n",
    "#make data subsets\n",
    "wine_data_red=wine_data[wine_data[\"color\"]==\"red\"].drop(columns=\"color\")\n",
    "wine_data_white=wine_data[wine_data[\"color\"]==\"white\"].drop(columns=\"color\")\n",
    "\n",
    "#data with less quality classes\n",
    "wine_data_red_cat=wine_data_red.copy()\n",
    "wine_data_red_cat[\"quality\"]=np.where(wine_data_red_cat[\"quality\"] <=5, 1,\n",
    "                                          np.where(wine_data_red_cat[\"quality\"]<=7,2, 3))\n",
    "\n",
    "wine_data_white_cat=wine_data_white.copy()\n",
    "wine_data_white_cat[\"quality\"]=np.where(wine_data_white_cat[\"quality\"] <=5, 1,\n",
    "                                          np.where(wine_data_white_cat[\"quality\"]<=7,2, 3))\n",
    "\n",
    "wine_data_encoded_cat=wine_data_encoded.copy()\n",
    "wine_data_encoded_cat[\"quality\"]=np.where(wine_data_encoded_cat[\"quality\"] <=5, 1,\n",
    "                                          np.where(wine_data_encoded_cat[\"quality\"]<=7,2, 3))\n",
    "\n",
    "\n",
    "print(\"------------------------Wine Encoded--------------------\")\n",
    "display(wine_data_encoded.head())\n",
    "print(f\"Wine Data Unique Colors {wine_data_encoded[\"color\"].unique()}\")\n",
    "print(\"------------------------Red and White Data--------------------\")\n",
    "display(wine_data_red.head())\n",
    "display(wine_data_white.head())\n",
    "print(\"------------------------Quality Categorized Data--------------------\")\n",
    "display(wine_data_red_cat.head())\n",
    "print(f\"Red Wine Unique Qualities: {wine_data_red_cat[\"quality\"].unique()}\\nRed Wine Shape: {wine_data_red_cat.shape}\")\n",
    "display(wine_data_white_cat.head())\n",
    "print(f\"White Wine Unique Qualities: {wine_data_white_cat[\"quality\"].unique()}\\nWhite Wine Shape: {wine_data_white_cat.shape}\")\n",
    "display(wine_data_encoded_cat.head())\n",
    "print(f\"All Wine Unique Qualities: {wine_data_encoded_cat[\"quality\"].unique()}\\nAll Wine Shape: {wine_data_encoded_cat.shape}\")\n"
   ]
  },
  {
   "cell_type": "markdown",
   "metadata": {},
   "source": [
    "# Investigate data"
   ]
  },
  {
   "cell_type": "code",
   "execution_count": 25,
   "metadata": {},
   "outputs": [
    {
     "data": {
      "image/png": "[encoded data removed]",
      "text/plain": [
       "<Figure size 640x480 with 1 Axes>"
      ]
     },
     "metadata": {},
     "output_type": "display_data"
    }
   ],
   "source": [
    "#view the output histograms\n",
    "fig1, ax=plt.subplots()\n",
    "ax.hist(wine_data_white[\"quality\"],bins=5, alpha=0.5, label=\"White Wine Quality\", color=\"red\")\n",
    "ax.hist(wine_data_red[\"quality\"],bins=5, alpha=0.5, label=\"Red Wine Quality\", color=\"blue\")\n",
    "ax.set_xlabel(\"Wine Quality\")\n",
    "ax.set_ylabel(\"Bin Count\")\n",
    "ax.set_title(\"Wine Quality Histograms\")\n",
    "ax.set_xticks(range(0,11,1))\n",
    "ax.legend()\n",
    "plt.show()"
   ]
  },
  {
   "cell_type": "code",
   "execution_count": 9,
   "metadata": {},
   "outputs": [
    {
     "name": "stdout",
     "output_type": "stream",
     "text": [
      "<class 'pandas.core.frame.DataFrame'>\n",
      "RangeIndex: 6497 entries, 0 to 6496\n",
      "Data columns (total 13 columns):\n",
      " #   Column                Non-Null Count  Dtype  \n",
      "---  ------                --------------  -----  \n",
      " 0   fixed_acidity         6497 non-null   float64\n",
      " 1   volatile_acidity      6497 non-null   float64\n",
      " 2   citric_acid           6497 non-null   float64\n",
      " 3   residual_sugar        6497 non-null   float64\n",
      " 4   chlorides             6497 non-null   float64\n",
      " 5   free_sulfur_dioxide   6497 non-null   float64\n",
      " 6   total_sulfur_dioxide  6497 non-null   float64\n",
      " 7   density               6497 non-null   float64\n",
      " 8   pH                    6497 non-null   float64\n",
      " 9   sulphates             6497 non-null   float64\n",
      " 10  alcohol               6497 non-null   float64\n",
      " 11  quality               6497 non-null   int64  \n",
      " 12  color                 6497 non-null   int32  \n",
      "dtypes: float64(11), int32(1), int64(1)\n",
      "memory usage: 634.6 KB\n"
     ]
    }
   ],
   "source": [
    "#check for nulls and the data types\n",
    "wine_data_encoded.info()"
   ]
  },
  {
   "cell_type": "code",
   "execution_count": 10,
   "metadata": {},
   "outputs": [
    {
     "data": {
      "application/vnd.microsoft.datawrangler.viewer.v0+json": {
       "columns": [
        {
         "name": "index",
         "rawType": "object",
         "type": "string"
        },
        {
         "name": "fixed_acidity",
         "rawType": "float64",
         "type": "float"
        },
        {
         "name": "volatile_acidity",
         "rawType": "float64",
         "type": "float"
        },
        {
         "name": "citric_acid",
         "rawType": "float64",
         "type": "float"
        },
        {
         "name": "residual_sugar",
         "rawType": "float64",
         "type": "float"
        },
        {
         "name": "chlorides",
         "rawType": "float64",
         "type": "float"
        },
        {
         "name": "free_sulfur_dioxide",
         "rawType": "float64",
         "type": "float"
        },
        {
         "name": "total_sulfur_dioxide",
         "rawType": "float64",
         "type": "float"
        },
        {
         "name": "density",
         "rawType": "float64",
         "type": "float"
        },
        {
         "name": "pH",
         "rawType": "float64",
         "type": "float"
        },
        {
         "name": "sulphates",
         "rawType": "float64",
         "type": "float"
        },
        {
         "name": "alcohol",
         "rawType": "float64",
         "type": "float"
        },
        {
         "name": "quality",
         "rawType": "float64",
         "type": "float"
        },
        {
         "name": "color",
         "rawType": "float64",
         "type": "float"
        }
       ],
       "conversionMethod": "pd.DataFrame",
       "ref": "a98196c2-8541-4a77-81b9-875aac7c552b",
       "rows": [
        [
         "count",
         "6497.0",
         "6497.0",
         "6497.0",
         "6497.0",
         "6497.0",
         "6497.0",
         "6497.0",
         "6497.0",
         "6497.0",
         "6497.0",
         "6497.0",
         "6497.0",
         "6497.0"
        ],
        [
         "mean",
         "7.215307064799139",
         "0.3396659996921656",
         "0.3186332153301524",
         "5.443235339387409",
         "0.05603386178236109",
         "30.525319378174544",
         "115.7445744189626",
         "0.9946966338309989",
         "3.2185008465445586",
         "0.5312682776666154",
         "10.491800831149453",
         "5.818377712790519",
         "0.7538864091118977"
        ],
        [
         "std",
         "1.296433757799792",
         "0.1646364740846772",
         "0.14531786489759185",
         "4.757803743147445",
         "0.03503360137245906",
         "17.74939977200255",
         "56.521854522630264",
         "0.002998673003719041",
         "0.1607872021039883",
         "0.14880587361448958",
         "1.1927117488689862",
         "0.873255271531111",
         "0.4307786597787123"
        ],
        [
         "min",
         "3.8",
         "0.08",
         "0.0",
         "0.6",
         "0.009",
         "1.0",
         "6.0",
         "0.98711",
         "2.72",
         "0.22",
         "8.0",
         "3.0",
         "0.0"
        ],
        [
         "25%",
         "6.4",
         "0.23",
         "0.25",
         "1.8",
         "0.038",
         "17.0",
         "77.0",
         "0.99234",
         "3.11",
         "0.43",
         "9.5",
         "5.0",
         "1.0"
        ],
        [
         "50%",
         "7.0",
         "0.29",
         "0.31",
         "3.0",
         "0.047",
         "29.0",
         "118.0",
         "0.99489",
         "3.21",
         "0.51",
         "10.3",
         "6.0",
         "1.0"
        ],
        [
         "75%",
         "7.7",
         "0.4",
         "0.39",
         "8.1",
         "0.065",
         "41.0",
         "156.0",
         "0.99699",
         "3.32",
         "0.6",
         "11.3",
         "6.0",
         "1.0"
        ],
        [
         "max",
         "15.9",
         "1.58",
         "1.66",
         "65.8",
         "0.611",
         "289.0",
         "440.0",
         "1.03898",
         "4.01",
         "2.0",
         "14.9",
         "9.0",
         "1.0"
        ]
       ],
       "shape": {
        "columns": 13,
        "rows": 8
       }
      },
      "text/html": [
       "<div>\n",
       "<style scoped>\n",
       "    .dataframe tbody tr th:only-of-type {\n",
       "        vertical-align: middle;\n",
       "    }\n",
       "\n",
       "    .dataframe tbody tr th {\n",
       "        vertical-align: top;\n",
       "    }\n",
       "\n",
       "    .dataframe thead th {\n",
       "        text-align: right;\n",
       "    }\n",
       "</style>\n",
       "<table border=\"1\" class=\"dataframe\">\n",
       "  <thead>\n",
       "    <tr style=\"text-align: right;\">\n",
       "      <th></th>\n",
       "      <th>fixed_acidity</th>\n",
       "      <th>volatile_acidity</th>\n",
       "      <th>citric_acid</th>\n",
       "      <th>residual_sugar</th>\n",
       "      <th>chlorides</th>\n",
       "      <th>free_sulfur_dioxide</th>\n",
       "      <th>total_sulfur_dioxide</th>\n",
       "      <th>density</th>\n",
       "      <th>pH</th>\n",
       "      <th>sulphates</th>\n",
       "      <th>alcohol</th>\n",
       "      <th>quality</th>\n",
       "      <th>color</th>\n",
       "    </tr>\n",
       "  </thead>\n",
       "  <tbody>\n",
       "    <tr>\n",
       "      <th>count</th>\n",
       "      <td>6497.000000</td>\n",
       "      <td>6497.000000</td>\n",
       "      <td>6497.000000</td>\n",
       "      <td>6497.000000</td>\n",
       "      <td>6497.000000</td>\n",
       "      <td>6497.000000</td>\n",
       "      <td>6497.000000</td>\n",
       "      <td>6497.000000</td>\n",
       "      <td>6497.000000</td>\n",
       "      <td>6497.000000</td>\n",
       "      <td>6497.000000</td>\n",
       "      <td>6497.000000</td>\n",
       "      <td>6497.000000</td>\n",
       "    </tr>\n",
       "    <tr>\n",
       "      <th>mean</th>\n",
       "      <td>7.215307</td>\n",
       "      <td>0.339666</td>\n",
       "      <td>0.318633</td>\n",
       "      <td>5.443235</td>\n",
       "      <td>0.056034</td>\n",
       "      <td>30.525319</td>\n",
       "      <td>115.744574</td>\n",
       "      <td>0.994697</td>\n",
       "      <td>3.218501</td>\n",
       "      <td>0.531268</td>\n",
       "      <td>10.491801</td>\n",
       "      <td>5.818378</td>\n",
       "      <td>0.753886</td>\n",
       "    </tr>\n",
       "    <tr>\n",
       "      <th>std</th>\n",
       "      <td>1.296434</td>\n",
       "      <td>0.164636</td>\n",
       "      <td>0.145318</td>\n",
       "      <td>4.757804</td>\n",
       "      <td>0.035034</td>\n",
       "      <td>17.749400</td>\n",
       "      <td>56.521855</td>\n",
       "      <td>0.002999</td>\n",
       "      <td>0.160787</td>\n",
       "      <td>0.148806</td>\n",
       "      <td>1.192712</td>\n",
       "      <td>0.873255</td>\n",
       "      <td>0.430779</td>\n",
       "    </tr>\n",
       "    <tr>\n",
       "      <th>min</th>\n",
       "      <td>3.800000</td>\n",
       "      <td>0.080000</td>\n",
       "      <td>0.000000</td>\n",
       "      <td>0.600000</td>\n",
       "      <td>0.009000</td>\n",
       "      <td>1.000000</td>\n",
       "      <td>6.000000</td>\n",
       "      <td>0.987110</td>\n",
       "      <td>2.720000</td>\n",
       "      <td>0.220000</td>\n",
       "      <td>8.000000</td>\n",
       "      <td>3.000000</td>\n",
       "      <td>0.000000</td>\n",
       "    </tr>\n",
       "    <tr>\n",
       "      <th>25%</th>\n",
       "      <td>6.400000</td>\n",
       "      <td>0.230000</td>\n",
       "      <td>0.250000</td>\n",
       "      <td>1.800000</td>\n",
       "      <td>0.038000</td>\n",
       "      <td>17.000000</td>\n",
       "      <td>77.000000</td>\n",
       "      <td>0.992340</td>\n",
       "      <td>3.110000</td>\n",
       "      <td>0.430000</td>\n",
       "      <td>9.500000</td>\n",
       "      <td>5.000000</td>\n",
       "      <td>1.000000</td>\n",
       "    </tr>\n",
       "    <tr>\n",
       "      <th>50%</th>\n",
       "      <td>7.000000</td>\n",
       "      <td>0.290000</td>\n",
       "      <td>0.310000</td>\n",
       "      <td>3.000000</td>\n",
       "      <td>0.047000</td>\n",
       "      <td>29.000000</td>\n",
       "      <td>118.000000</td>\n",
       "      <td>0.994890</td>\n",
       "      <td>3.210000</td>\n",
       "      <td>0.510000</td>\n",
       "      <td>10.300000</td>\n",
       "      <td>6.000000</td>\n",
       "      <td>1.000000</td>\n",
       "    </tr>\n",
       "    <tr>\n",
       "      <th>75%</th>\n",
       "      <td>7.700000</td>\n",
       "      <td>0.400000</td>\n",
       "      <td>0.390000</td>\n",
       "      <td>8.100000</td>\n",
       "      <td>0.065000</td>\n",
       "      <td>41.000000</td>\n",
       "      <td>156.000000</td>\n",
       "      <td>0.996990</td>\n",
       "      <td>3.320000</td>\n",
       "      <td>0.600000</td>\n",
       "      <td>11.300000</td>\n",
       "      <td>6.000000</td>\n",
       "      <td>1.000000</td>\n",
       "    </tr>\n",
       "    <tr>\n",
       "      <th>max</th>\n",
       "      <td>15.900000</td>\n",
       "      <td>1.580000</td>\n",
       "      <td>1.660000</td>\n",
       "      <td>65.800000</td>\n",
       "      <td>0.611000</td>\n",
       "      <td>289.000000</td>\n",
       "      <td>440.000000</td>\n",
       "      <td>1.038980</td>\n",
       "      <td>4.010000</td>\n",
       "      <td>2.000000</td>\n",
       "      <td>14.900000</td>\n",
       "      <td>9.000000</td>\n",
       "      <td>1.000000</td>\n",
       "    </tr>\n",
       "  </tbody>\n",
       "</table>\n",
       "</div>"
      ],
      "text/plain": [
       "       fixed_acidity  volatile_acidity  citric_acid  residual_sugar  \\\n",
       "count    6497.000000       6497.000000  6497.000000     6497.000000   \n",
       "mean        7.215307          0.339666     0.318633        5.443235   \n",
       "std         1.296434          0.164636     0.145318        4.757804   \n",
       "min         3.800000          0.080000     0.000000        0.600000   \n",
       "25%         6.400000          0.230000     0.250000        1.800000   \n",
       "50%         7.000000          0.290000     0.310000        3.000000   \n",
       "75%         7.700000          0.400000     0.390000        8.100000   \n",
       "max        15.900000          1.580000     1.660000       65.800000   \n",
       "\n",
       "         chlorides  free_sulfur_dioxide  total_sulfur_dioxide      density  \\\n",
       "count  6497.000000          6497.000000           6497.000000  6497.000000   \n",
       "mean      0.056034            30.525319            115.744574     0.994697   \n",
       "std       0.035034            17.749400             56.521855     0.002999   \n",
       "min       0.009000             1.000000              6.000000     0.987110   \n",
       "25%       0.038000            17.000000             77.000000     0.992340   \n",
       "50%       0.047000            29.000000            118.000000     0.994890   \n",
       "75%       0.065000            41.000000            156.000000     0.996990   \n",
       "max       0.611000           289.000000            440.000000     1.038980   \n",
       "\n",
       "                pH    sulphates      alcohol      quality        color  \n",
       "count  6497.000000  6497.000000  6497.000000  6497.000000  6497.000000  \n",
       "mean      3.218501     0.531268    10.491801     5.818378     0.753886  \n",
       "std       0.160787     0.148806     1.192712     0.873255     0.430779  \n",
       "min       2.720000     0.220000     8.000000     3.000000     0.000000  \n",
       "25%       3.110000     0.430000     9.500000     5.000000     1.000000  \n",
       "50%       3.210000     0.510000    10.300000     6.000000     1.000000  \n",
       "75%       3.320000     0.600000    11.300000     6.000000     1.000000  \n",
       "max       4.010000     2.000000    14.900000     9.000000     1.000000  "
      ]
     },
     "execution_count": 10,
     "metadata": {},
     "output_type": "execute_result"
    }
   ],
   "source": [
    "# Check values\n",
    "wine_data_encoded.describe()"
   ]
  },
  {
   "cell_type": "code",
   "execution_count": 11,
   "metadata": {},
   "outputs": [
    {
     "data": {
      "application/vnd.microsoft.datawrangler.viewer.v0+json": {
       "columns": [
        {
         "name": "index",
         "rawType": "object",
         "type": "string"
        },
        {
         "name": "fixed_acidity",
         "rawType": "float64",
         "type": "float"
        },
        {
         "name": "volatile_acidity",
         "rawType": "float64",
         "type": "float"
        },
        {
         "name": "citric_acid",
         "rawType": "float64",
         "type": "float"
        },
        {
         "name": "residual_sugar",
         "rawType": "float64",
         "type": "float"
        },
        {
         "name": "chlorides",
         "rawType": "float64",
         "type": "float"
        },
        {
         "name": "free_sulfur_dioxide",
         "rawType": "float64",
         "type": "float"
        },
        {
         "name": "total_sulfur_dioxide",
         "rawType": "float64",
         "type": "float"
        },
        {
         "name": "density",
         "rawType": "float64",
         "type": "float"
        },
        {
         "name": "pH",
         "rawType": "float64",
         "type": "float"
        },
        {
         "name": "sulphates",
         "rawType": "float64",
         "type": "float"
        },
        {
         "name": "alcohol",
         "rawType": "float64",
         "type": "float"
        },
        {
         "name": "quality",
         "rawType": "float64",
         "type": "float"
        },
        {
         "name": "color",
         "rawType": "float64",
         "type": "float"
        }
       ],
       "conversionMethod": "pd.DataFrame",
       "ref": "5d3790b5-9c76-465a-9b17-0fac752ff2ac",
       "rows": [
        [
         "fixed_acidity",
         "1.0",
         "0.22",
         "0.32",
         "-0.11",
         "0.3",
         "-0.28",
         "-0.33",
         "0.46",
         "-0.25",
         "0.3",
         "-0.1",
         "-0.08",
         "-0.49"
        ],
        [
         "volatile_acidity",
         "0.22",
         "1.0",
         "-0.38",
         "-0.2",
         "0.38",
         "-0.35",
         "-0.41",
         "0.27",
         "0.26",
         "0.23",
         "-0.04",
         "-0.27",
         "-0.65"
        ],
        [
         "citric_acid",
         "0.32",
         "-0.38",
         "1.0",
         "0.14",
         "0.04",
         "0.13",
         "0.2",
         "0.1",
         "-0.33",
         "0.06",
         "-0.01",
         "0.09",
         "0.19"
        ],
        [
         "residual_sugar",
         "-0.11",
         "-0.2",
         "0.14",
         "1.0",
         "-0.13",
         "0.4",
         "0.5",
         "0.55",
         "-0.27",
         "-0.19",
         "-0.36",
         "-0.04",
         "0.35"
        ],
        [
         "chlorides",
         "0.3",
         "0.38",
         "0.04",
         "-0.13",
         "1.0",
         "-0.2",
         "-0.28",
         "0.36",
         "0.04",
         "0.4",
         "-0.26",
         "-0.2",
         "-0.51"
        ],
        [
         "free_sulfur_dioxide",
         "-0.28",
         "-0.35",
         "0.13",
         "0.4",
         "-0.2",
         "1.0",
         "0.72",
         "0.03",
         "-0.15",
         "-0.19",
         "-0.18",
         "0.06",
         "0.47"
        ],
        [
         "total_sulfur_dioxide",
         "-0.33",
         "-0.41",
         "0.2",
         "0.5",
         "-0.28",
         "0.72",
         "1.0",
         "0.03",
         "-0.24",
         "-0.28",
         "-0.27",
         "-0.04",
         "0.7"
        ],
        [
         "density",
         "0.46",
         "0.27",
         "0.1",
         "0.55",
         "0.36",
         "0.03",
         "0.03",
         "1.0",
         "0.01",
         "0.26",
         "-0.69",
         "-0.31",
         "-0.39"
        ],
        [
         "pH",
         "-0.25",
         "0.26",
         "-0.33",
         "-0.27",
         "0.04",
         "-0.15",
         "-0.24",
         "0.01",
         "1.0",
         "0.19",
         "0.12",
         "0.02",
         "-0.33"
        ],
        [
         "sulphates",
         "0.3",
         "0.23",
         "0.06",
         "-0.19",
         "0.4",
         "-0.19",
         "-0.28",
         "0.26",
         "0.19",
         "1.0",
         "-0.0",
         "0.04",
         "-0.49"
        ],
        [
         "alcohol",
         "-0.1",
         "-0.04",
         "-0.01",
         "-0.36",
         "-0.26",
         "-0.18",
         "-0.27",
         "-0.69",
         "0.12",
         "-0.0",
         "1.0",
         "0.44",
         "0.03"
        ],
        [
         "quality",
         "-0.08",
         "-0.27",
         "0.09",
         "-0.04",
         "-0.2",
         "0.06",
         "-0.04",
         "-0.31",
         "0.02",
         "0.04",
         "0.44",
         "1.0",
         "0.12"
        ],
        [
         "color",
         "-0.49",
         "-0.65",
         "0.19",
         "0.35",
         "-0.51",
         "0.47",
         "0.7",
         "-0.39",
         "-0.33",
         "-0.49",
         "0.03",
         "0.12",
         "1.0"
        ]
       ],
       "shape": {
        "columns": 13,
        "rows": 13
       }
      },
      "text/html": [
       "<div>\n",
       "<style scoped>\n",
       "    .dataframe tbody tr th:only-of-type {\n",
       "        vertical-align: middle;\n",
       "    }\n",
       "\n",
       "    .dataframe tbody tr th {\n",
       "        vertical-align: top;\n",
       "    }\n",
       "\n",
       "    .dataframe thead th {\n",
       "        text-align: right;\n",
       "    }\n",
       "</style>\n",
       "<table border=\"1\" class=\"dataframe\">\n",
       "  <thead>\n",
       "    <tr style=\"text-align: right;\">\n",
       "      <th></th>\n",
       "      <th>fixed_acidity</th>\n",
       "      <th>volatile_acidity</th>\n",
       "      <th>citric_acid</th>\n",
       "      <th>residual_sugar</th>\n",
       "      <th>chlorides</th>\n",
       "      <th>free_sulfur_dioxide</th>\n",
       "      <th>total_sulfur_dioxide</th>\n",
       "      <th>density</th>\n",
       "      <th>pH</th>\n",
       "      <th>sulphates</th>\n",
       "      <th>alcohol</th>\n",
       "      <th>quality</th>\n",
       "      <th>color</th>\n",
       "    </tr>\n",
       "  </thead>\n",
       "  <tbody>\n",
       "    <tr>\n",
       "      <th>fixed_acidity</th>\n",
       "      <td>1.00</td>\n",
       "      <td>0.22</td>\n",
       "      <td>0.32</td>\n",
       "      <td>-0.11</td>\n",
       "      <td>0.30</td>\n",
       "      <td>-0.28</td>\n",
       "      <td>-0.33</td>\n",
       "      <td>0.46</td>\n",
       "      <td>-0.25</td>\n",
       "      <td>0.30</td>\n",
       "      <td>-0.10</td>\n",
       "      <td>-0.08</td>\n",
       "      <td>-0.49</td>\n",
       "    </tr>\n",
       "    <tr>\n",
       "      <th>volatile_acidity</th>\n",
       "      <td>0.22</td>\n",
       "      <td>1.00</td>\n",
       "      <td>-0.38</td>\n",
       "      <td>-0.20</td>\n",
       "      <td>0.38</td>\n",
       "      <td>-0.35</td>\n",
       "      <td>-0.41</td>\n",
       "      <td>0.27</td>\n",
       "      <td>0.26</td>\n",
       "      <td>0.23</td>\n",
       "      <td>-0.04</td>\n",
       "      <td>-0.27</td>\n",
       "      <td>-0.65</td>\n",
       "    </tr>\n",
       "    <tr>\n",
       "      <th>citric_acid</th>\n",
       "      <td>0.32</td>\n",
       "      <td>-0.38</td>\n",
       "      <td>1.00</td>\n",
       "      <td>0.14</td>\n",
       "      <td>0.04</td>\n",
       "      <td>0.13</td>\n",
       "      <td>0.20</td>\n",
       "      <td>0.10</td>\n",
       "      <td>-0.33</td>\n",
       "      <td>0.06</td>\n",
       "      <td>-0.01</td>\n",
       "      <td>0.09</td>\n",
       "      <td>0.19</td>\n",
       "    </tr>\n",
       "    <tr>\n",
       "      <th>residual_sugar</th>\n",
       "      <td>-0.11</td>\n",
       "      <td>-0.20</td>\n",
       "      <td>0.14</td>\n",
       "      <td>1.00</td>\n",
       "      <td>-0.13</td>\n",
       "      <td>0.40</td>\n",
       "      <td>0.50</td>\n",
       "      <td>0.55</td>\n",
       "      <td>-0.27</td>\n",
       "      <td>-0.19</td>\n",
       "      <td>-0.36</td>\n",
       "      <td>-0.04</td>\n",
       "      <td>0.35</td>\n",
       "    </tr>\n",
       "    <tr>\n",
       "      <th>chlorides</th>\n",
       "      <td>0.30</td>\n",
       "      <td>0.38</td>\n",
       "      <td>0.04</td>\n",
       "      <td>-0.13</td>\n",
       "      <td>1.00</td>\n",
       "      <td>-0.20</td>\n",
       "      <td>-0.28</td>\n",
       "      <td>0.36</td>\n",
       "      <td>0.04</td>\n",
       "      <td>0.40</td>\n",
       "      <td>-0.26</td>\n",
       "      <td>-0.20</td>\n",
       "      <td>-0.51</td>\n",
       "    </tr>\n",
       "    <tr>\n",
       "      <th>free_sulfur_dioxide</th>\n",
       "      <td>-0.28</td>\n",
       "      <td>-0.35</td>\n",
       "      <td>0.13</td>\n",
       "      <td>0.40</td>\n",
       "      <td>-0.20</td>\n",
       "      <td>1.00</td>\n",
       "      <td>0.72</td>\n",
       "      <td>0.03</td>\n",
       "      <td>-0.15</td>\n",
       "      <td>-0.19</td>\n",
       "      <td>-0.18</td>\n",
       "      <td>0.06</td>\n",
       "      <td>0.47</td>\n",
       "    </tr>\n",
       "    <tr>\n",
       "      <th>total_sulfur_dioxide</th>\n",
       "      <td>-0.33</td>\n",
       "      <td>-0.41</td>\n",
       "      <td>0.20</td>\n",
       "      <td>0.50</td>\n",
       "      <td>-0.28</td>\n",
       "      <td>0.72</td>\n",
       "      <td>1.00</td>\n",
       "      <td>0.03</td>\n",
       "      <td>-0.24</td>\n",
       "      <td>-0.28</td>\n",
       "      <td>-0.27</td>\n",
       "      <td>-0.04</td>\n",
       "      <td>0.70</td>\n",
       "    </tr>\n",
       "    <tr>\n",
       "      <th>density</th>\n",
       "      <td>0.46</td>\n",
       "      <td>0.27</td>\n",
       "      <td>0.10</td>\n",
       "      <td>0.55</td>\n",
       "      <td>0.36</td>\n",
       "      <td>0.03</td>\n",
       "      <td>0.03</td>\n",
       "      <td>1.00</td>\n",
       "      <td>0.01</td>\n",
       "      <td>0.26</td>\n",
       "      <td>-0.69</td>\n",
       "      <td>-0.31</td>\n",
       "      <td>-0.39</td>\n",
       "    </tr>\n",
       "    <tr>\n",
       "      <th>pH</th>\n",
       "      <td>-0.25</td>\n",
       "      <td>0.26</td>\n",
       "      <td>-0.33</td>\n",
       "      <td>-0.27</td>\n",
       "      <td>0.04</td>\n",
       "      <td>-0.15</td>\n",
       "      <td>-0.24</td>\n",
       "      <td>0.01</td>\n",
       "      <td>1.00</td>\n",
       "      <td>0.19</td>\n",
       "      <td>0.12</td>\n",
       "      <td>0.02</td>\n",
       "      <td>-0.33</td>\n",
       "    </tr>\n",
       "    <tr>\n",
       "      <th>sulphates</th>\n",
       "      <td>0.30</td>\n",
       "      <td>0.23</td>\n",
       "      <td>0.06</td>\n",
       "      <td>-0.19</td>\n",
       "      <td>0.40</td>\n",
       "      <td>-0.19</td>\n",
       "      <td>-0.28</td>\n",
       "      <td>0.26</td>\n",
       "      <td>0.19</td>\n",
       "      <td>1.00</td>\n",
       "      <td>-0.00</td>\n",
       "      <td>0.04</td>\n",
       "      <td>-0.49</td>\n",
       "    </tr>\n",
       "    <tr>\n",
       "      <th>alcohol</th>\n",
       "      <td>-0.10</td>\n",
       "      <td>-0.04</td>\n",
       "      <td>-0.01</td>\n",
       "      <td>-0.36</td>\n",
       "      <td>-0.26</td>\n",
       "      <td>-0.18</td>\n",
       "      <td>-0.27</td>\n",
       "      <td>-0.69</td>\n",
       "      <td>0.12</td>\n",
       "      <td>-0.00</td>\n",
       "      <td>1.00</td>\n",
       "      <td>0.44</td>\n",
       "      <td>0.03</td>\n",
       "    </tr>\n",
       "    <tr>\n",
       "      <th>quality</th>\n",
       "      <td>-0.08</td>\n",
       "      <td>-0.27</td>\n",
       "      <td>0.09</td>\n",
       "      <td>-0.04</td>\n",
       "      <td>-0.20</td>\n",
       "      <td>0.06</td>\n",
       "      <td>-0.04</td>\n",
       "      <td>-0.31</td>\n",
       "      <td>0.02</td>\n",
       "      <td>0.04</td>\n",
       "      <td>0.44</td>\n",
       "      <td>1.00</td>\n",
       "      <td>0.12</td>\n",
       "    </tr>\n",
       "    <tr>\n",
       "      <th>color</th>\n",
       "      <td>-0.49</td>\n",
       "      <td>-0.65</td>\n",
       "      <td>0.19</td>\n",
       "      <td>0.35</td>\n",
       "      <td>-0.51</td>\n",
       "      <td>0.47</td>\n",
       "      <td>0.70</td>\n",
       "      <td>-0.39</td>\n",
       "      <td>-0.33</td>\n",
       "      <td>-0.49</td>\n",
       "      <td>0.03</td>\n",
       "      <td>0.12</td>\n",
       "      <td>1.00</td>\n",
       "    </tr>\n",
       "  </tbody>\n",
       "</table>\n",
       "</div>"
      ],
      "text/plain": [
       "                      fixed_acidity  volatile_acidity  citric_acid  \\\n",
       "fixed_acidity                  1.00              0.22         0.32   \n",
       "volatile_acidity               0.22              1.00        -0.38   \n",
       "citric_acid                    0.32             -0.38         1.00   \n",
       "residual_sugar                -0.11             -0.20         0.14   \n",
       "chlorides                      0.30              0.38         0.04   \n",
       "free_sulfur_dioxide           -0.28             -0.35         0.13   \n",
       "total_sulfur_dioxide          -0.33             -0.41         0.20   \n",
       "density                        0.46              0.27         0.10   \n",
       "pH                            -0.25              0.26        -0.33   \n",
       "sulphates                      0.30              0.23         0.06   \n",
       "alcohol                       -0.10             -0.04        -0.01   \n",
       "quality                       -0.08             -0.27         0.09   \n",
       "color                         -0.49             -0.65         0.19   \n",
       "\n",
       "                      residual_sugar  chlorides  free_sulfur_dioxide  \\\n",
       "fixed_acidity                  -0.11       0.30                -0.28   \n",
       "volatile_acidity               -0.20       0.38                -0.35   \n",
       "citric_acid                     0.14       0.04                 0.13   \n",
       "residual_sugar                  1.00      -0.13                 0.40   \n",
       "chlorides                      -0.13       1.00                -0.20   \n",
       "free_sulfur_dioxide             0.40      -0.20                 1.00   \n",
       "total_sulfur_dioxide            0.50      -0.28                 0.72   \n",
       "density                         0.55       0.36                 0.03   \n",
       "pH                             -0.27       0.04                -0.15   \n",
       "sulphates                      -0.19       0.40                -0.19   \n",
       "alcohol                        -0.36      -0.26                -0.18   \n",
       "quality                        -0.04      -0.20                 0.06   \n",
       "color                           0.35      -0.51                 0.47   \n",
       "\n",
       "                      total_sulfur_dioxide  density    pH  sulphates  alcohol  \\\n",
       "fixed_acidity                        -0.33     0.46 -0.25       0.30    -0.10   \n",
       "volatile_acidity                     -0.41     0.27  0.26       0.23    -0.04   \n",
       "citric_acid                           0.20     0.10 -0.33       0.06    -0.01   \n",
       "residual_sugar                        0.50     0.55 -0.27      -0.19    -0.36   \n",
       "chlorides                            -0.28     0.36  0.04       0.40    -0.26   \n",
       "free_sulfur_dioxide                   0.72     0.03 -0.15      -0.19    -0.18   \n",
       "total_sulfur_dioxide                  1.00     0.03 -0.24      -0.28    -0.27   \n",
       "density                               0.03     1.00  0.01       0.26    -0.69   \n",
       "pH                                   -0.24     0.01  1.00       0.19     0.12   \n",
       "sulphates                            -0.28     0.26  0.19       1.00    -0.00   \n",
       "alcohol                              -0.27    -0.69  0.12      -0.00     1.00   \n",
       "quality                              -0.04    -0.31  0.02       0.04     0.44   \n",
       "color                                 0.70    -0.39 -0.33      -0.49     0.03   \n",
       "\n",
       "                      quality  color  \n",
       "fixed_acidity           -0.08  -0.49  \n",
       "volatile_acidity        -0.27  -0.65  \n",
       "citric_acid              0.09   0.19  \n",
       "residual_sugar          -0.04   0.35  \n",
       "chlorides               -0.20  -0.51  \n",
       "free_sulfur_dioxide      0.06   0.47  \n",
       "total_sulfur_dioxide    -0.04   0.70  \n",
       "density                 -0.31  -0.39  \n",
       "pH                       0.02  -0.33  \n",
       "sulphates                0.04  -0.49  \n",
       "alcohol                  0.44   0.03  \n",
       "quality                  1.00   0.12  \n",
       "color                    0.12   1.00  "
      ]
     },
     "execution_count": 11,
     "metadata": {},
     "output_type": "execute_result"
    }
   ],
   "source": [
    "# check for correlations\n",
    "wine_data_encoded.corr().round(2)\n"
   ]
  },
  {
   "cell_type": "markdown",
   "metadata": {},
   "source": [
    "# Modeling"
   ]
  },
  {
   "cell_type": "markdown",
   "metadata": {},
   "source": [
    "### Trying various models"
   ]
  },
  {
   "cell_type": "code",
   "execution_count": 71,
   "metadata": {},
   "outputs": [
    {
     "data": {
      "application/vnd.microsoft.datawrangler.viewer.v0+json": {
       "columns": [
        {
         "name": "index",
         "rawType": "int64",
         "type": "integer"
        },
        {
         "name": "Classifier",
         "rawType": "object",
         "type": "string"
        },
        {
         "name": "Training Accuracy",
         "rawType": "float64",
         "type": "float"
        },
        {
         "name": "Test Accuracy",
         "rawType": "float64",
         "type": "float"
        }
       ],
       "conversionMethod": "pd.DataFrame",
       "ref": "be65df0b-3f8a-44cc-8239-83093166dfaa",
       "rows": [
        [
         "0",
         "Random Forest",
         "1.0",
         "0.682"
        ],
        [
         "5",
         "Extremely Random Tree",
         "1.0",
         "0.666"
        ],
        [
         "7",
         "XG Boost",
         "0.989",
         "0.665"
        ],
        [
         "4",
         "Decision Tree",
         "1.0",
         "0.599"
        ],
        [
         "1",
         "Gradient Boost",
         "0.707",
         "0.583"
        ],
        [
         "2",
         "SVM",
         "0.61",
         "0.564"
        ],
        [
         "3",
         "KNN",
         "0.706",
         "0.543"
        ],
        [
         "11",
         "Logistic Regression",
         "0.55",
         "0.534"
        ],
        [
         "9",
         "Naive Bayes Multinomial",
         "0.432",
         "0.458"
        ],
        [
         "10",
         "Naive Bayes Bernoulli",
         "0.441",
         "0.449"
        ],
        [
         "6",
         "Adaptive Boost",
         "0.37",
         "0.351"
        ],
        [
         "8",
         "Naive Bayes Gaussian",
         "0.348",
         "0.341"
        ]
       ],
       "shape": {
        "columns": 3,
        "rows": 12
       }
      },
      "text/html": [
       "<div>\n",
       "<style scoped>\n",
       "    .dataframe tbody tr th:only-of-type {\n",
       "        vertical-align: middle;\n",
       "    }\n",
       "\n",
       "    .dataframe tbody tr th {\n",
       "        vertical-align: top;\n",
       "    }\n",
       "\n",
       "    .dataframe thead th {\n",
       "        text-align: right;\n",
       "    }\n",
       "</style>\n",
       "<table border=\"1\" class=\"dataframe\">\n",
       "  <thead>\n",
       "    <tr style=\"text-align: right;\">\n",
       "      <th></th>\n",
       "      <th>Classifier</th>\n",
       "      <th>Training Accuracy</th>\n",
       "      <th>Test Accuracy</th>\n",
       "    </tr>\n",
       "  </thead>\n",
       "  <tbody>\n",
       "    <tr>\n",
       "      <th>0</th>\n",
       "      <td>Random Forest</td>\n",
       "      <td>1.000</td>\n",
       "      <td>0.682</td>\n",
       "    </tr>\n",
       "    <tr>\n",
       "      <th>5</th>\n",
       "      <td>Extremely Random Tree</td>\n",
       "      <td>1.000</td>\n",
       "      <td>0.666</td>\n",
       "    </tr>\n",
       "    <tr>\n",
       "      <th>7</th>\n",
       "      <td>XG Boost</td>\n",
       "      <td>0.989</td>\n",
       "      <td>0.665</td>\n",
       "    </tr>\n",
       "    <tr>\n",
       "      <th>4</th>\n",
       "      <td>Decision Tree</td>\n",
       "      <td>1.000</td>\n",
       "      <td>0.599</td>\n",
       "    </tr>\n",
       "    <tr>\n",
       "      <th>1</th>\n",
       "      <td>Gradient Boost</td>\n",
       "      <td>0.707</td>\n",
       "      <td>0.583</td>\n",
       "    </tr>\n",
       "    <tr>\n",
       "      <th>2</th>\n",
       "      <td>SVM</td>\n",
       "      <td>0.610</td>\n",
       "      <td>0.564</td>\n",
       "    </tr>\n",
       "    <tr>\n",
       "      <th>3</th>\n",
       "      <td>KNN</td>\n",
       "      <td>0.706</td>\n",
       "      <td>0.543</td>\n",
       "    </tr>\n",
       "    <tr>\n",
       "      <th>11</th>\n",
       "      <td>Logistic Regression</td>\n",
       "      <td>0.550</td>\n",
       "      <td>0.534</td>\n",
       "    </tr>\n",
       "    <tr>\n",
       "      <th>9</th>\n",
       "      <td>Naive Bayes Multinomial</td>\n",
       "      <td>0.432</td>\n",
       "      <td>0.458</td>\n",
       "    </tr>\n",
       "    <tr>\n",
       "      <th>10</th>\n",
       "      <td>Naive Bayes Bernoulli</td>\n",
       "      <td>0.441</td>\n",
       "      <td>0.449</td>\n",
       "    </tr>\n",
       "    <tr>\n",
       "      <th>6</th>\n",
       "      <td>Adaptive Boost</td>\n",
       "      <td>0.370</td>\n",
       "      <td>0.351</td>\n",
       "    </tr>\n",
       "    <tr>\n",
       "      <th>8</th>\n",
       "      <td>Naive Bayes Gaussian</td>\n",
       "      <td>0.348</td>\n",
       "      <td>0.341</td>\n",
       "    </tr>\n",
       "  </tbody>\n",
       "</table>\n",
       "</div>"
      ],
      "text/plain": [
       "                 Classifier  Training Accuracy  Test Accuracy\n",
       "0             Random Forest              1.000          0.682\n",
       "5     Extremely Random Tree              1.000          0.666\n",
       "7                  XG Boost              0.989          0.665\n",
       "4             Decision Tree              1.000          0.599\n",
       "1            Gradient Boost              0.707          0.583\n",
       "2                       SVM              0.610          0.564\n",
       "3                       KNN              0.706          0.543\n",
       "11      Logistic Regression              0.550          0.534\n",
       "9   Naive Bayes Multinomial              0.432          0.458\n",
       "10    Naive Bayes Bernoulli              0.441          0.449\n",
       "6            Adaptive Boost              0.370          0.351\n",
       "8      Naive Bayes Gaussian              0.348          0.341"
      ]
     },
     "metadata": {},
     "output_type": "display_data"
    },
    {
     "data": {
      "application/vnd.microsoft.datawrangler.viewer.v0+json": {
       "columns": [
        {
         "name": "index",
         "rawType": "int64",
         "type": "integer"
        },
        {
         "name": "Regressor",
         "rawType": "object",
         "type": "string"
        },
        {
         "name": "MSE",
         "rawType": "float64",
         "type": "float"
        },
        {
         "name": "R Squared",
         "rawType": "float64",
         "type": "float"
        }
       ],
       "conversionMethod": "pd.DataFrame",
       "ref": "4117dcca-f86e-47f3-abc5-e07be56bb18a",
       "rows": [
        [
         "2",
         "Lasso",
         "0.743",
         "-0.0"
        ],
        [
         "0",
         "Linear Regression",
         "0.546",
         "0.266"
        ],
        [
         "1",
         "Ridge",
         "0.545",
         "0.266"
        ]
       ],
       "shape": {
        "columns": 3,
        "rows": 3
       }
      },
      "text/html": [
       "<div>\n",
       "<style scoped>\n",
       "    .dataframe tbody tr th:only-of-type {\n",
       "        vertical-align: middle;\n",
       "    }\n",
       "\n",
       "    .dataframe tbody tr th {\n",
       "        vertical-align: top;\n",
       "    }\n",
       "\n",
       "    .dataframe thead th {\n",
       "        text-align: right;\n",
       "    }\n",
       "</style>\n",
       "<table border=\"1\" class=\"dataframe\">\n",
       "  <thead>\n",
       "    <tr style=\"text-align: right;\">\n",
       "      <th></th>\n",
       "      <th>Regressor</th>\n",
       "      <th>MSE</th>\n",
       "      <th>R Squared</th>\n",
       "    </tr>\n",
       "  </thead>\n",
       "  <tbody>\n",
       "    <tr>\n",
       "      <th>2</th>\n",
       "      <td>Lasso</td>\n",
       "      <td>0.743</td>\n",
       "      <td>-0.000</td>\n",
       "    </tr>\n",
       "    <tr>\n",
       "      <th>0</th>\n",
       "      <td>Linear Regression</td>\n",
       "      <td>0.546</td>\n",
       "      <td>0.266</td>\n",
       "    </tr>\n",
       "    <tr>\n",
       "      <th>1</th>\n",
       "      <td>Ridge</td>\n",
       "      <td>0.545</td>\n",
       "      <td>0.266</td>\n",
       "    </tr>\n",
       "  </tbody>\n",
       "</table>\n",
       "</div>"
      ],
      "text/plain": [
       "           Regressor    MSE  R Squared\n",
       "2              Lasso  0.743     -0.000\n",
       "0  Linear Regression  0.546      0.266\n",
       "1              Ridge  0.545      0.266"
      ]
     },
     "metadata": {},
     "output_type": "display_data"
    }
   ],
   "source": [
    "# Both colors in 1 dataset with the color encoded and 9 quality classes\n",
    "display(model_report_function(wine_data_encoded)[0].round(3))\n",
    "display(model_report_function(wine_data_encoded)[1].round(3))\n"
   ]
  },
  {
   "cell_type": "code",
   "execution_count": 72,
   "metadata": {},
   "outputs": [
    {
     "data": {
      "application/vnd.microsoft.datawrangler.viewer.v0+json": {
       "columns": [
        {
         "name": "index",
         "rawType": "int64",
         "type": "integer"
        },
        {
         "name": "Classifier",
         "rawType": "object",
         "type": "string"
        },
        {
         "name": "Training Accuracy",
         "rawType": "float64",
         "type": "float"
        },
        {
         "name": "Test Accuracy",
         "rawType": "float64",
         "type": "float"
        }
       ],
       "conversionMethod": "pd.DataFrame",
       "ref": "b961021a-a7af-41fe-a3c5-3b8e9541104d",
       "rows": [
        [
         "5",
         "Extremely Random Tree",
         "1.0",
         "0.804"
        ],
        [
         "0",
         "Random Forest",
         "1.0",
         "0.798"
        ],
        [
         "7",
         "XG Boost",
         "0.994",
         "0.777"
        ],
        [
         "1",
         "Gradient Boost",
         "0.8",
         "0.742"
        ],
        [
         "2",
         "SVM",
         "0.768",
         "0.734"
        ],
        [
         "4",
         "Decision Tree",
         "1.0",
         "0.721"
        ],
        [
         "3",
         "KNN",
         "0.816",
         "0.708"
        ],
        [
         "11",
         "Logistic Regression",
         "0.718",
         "0.697"
        ],
        [
         "6",
         "Adaptive Boost",
         "0.698",
         "0.678"
        ],
        [
         "8",
         "Naive Bayes Gaussian",
         "0.623",
         "0.62"
        ],
        [
         "9",
         "Naive Bayes Multinomial",
         "0.599",
         "0.614"
        ],
        [
         "10",
         "Naive Bayes Bernoulli",
         "0.601",
         "0.614"
        ]
       ],
       "shape": {
        "columns": 3,
        "rows": 12
       }
      },
      "text/html": [
       "<div>\n",
       "<style scoped>\n",
       "    .dataframe tbody tr th:only-of-type {\n",
       "        vertical-align: middle;\n",
       "    }\n",
       "\n",
       "    .dataframe tbody tr th {\n",
       "        vertical-align: top;\n",
       "    }\n",
       "\n",
       "    .dataframe thead th {\n",
       "        text-align: right;\n",
       "    }\n",
       "</style>\n",
       "<table border=\"1\" class=\"dataframe\">\n",
       "  <thead>\n",
       "    <tr style=\"text-align: right;\">\n",
       "      <th></th>\n",
       "      <th>Classifier</th>\n",
       "      <th>Training Accuracy</th>\n",
       "      <th>Test Accuracy</th>\n",
       "    </tr>\n",
       "  </thead>\n",
       "  <tbody>\n",
       "    <tr>\n",
       "      <th>5</th>\n",
       "      <td>Extremely Random Tree</td>\n",
       "      <td>1.000</td>\n",
       "      <td>0.804</td>\n",
       "    </tr>\n",
       "    <tr>\n",
       "      <th>0</th>\n",
       "      <td>Random Forest</td>\n",
       "      <td>1.000</td>\n",
       "      <td>0.798</td>\n",
       "    </tr>\n",
       "    <tr>\n",
       "      <th>7</th>\n",
       "      <td>XG Boost</td>\n",
       "      <td>0.994</td>\n",
       "      <td>0.777</td>\n",
       "    </tr>\n",
       "    <tr>\n",
       "      <th>1</th>\n",
       "      <td>Gradient Boost</td>\n",
       "      <td>0.800</td>\n",
       "      <td>0.742</td>\n",
       "    </tr>\n",
       "    <tr>\n",
       "      <th>2</th>\n",
       "      <td>SVM</td>\n",
       "      <td>0.768</td>\n",
       "      <td>0.734</td>\n",
       "    </tr>\n",
       "    <tr>\n",
       "      <th>4</th>\n",
       "      <td>Decision Tree</td>\n",
       "      <td>1.000</td>\n",
       "      <td>0.721</td>\n",
       "    </tr>\n",
       "    <tr>\n",
       "      <th>3</th>\n",
       "      <td>KNN</td>\n",
       "      <td>0.816</td>\n",
       "      <td>0.708</td>\n",
       "    </tr>\n",
       "    <tr>\n",
       "      <th>11</th>\n",
       "      <td>Logistic Regression</td>\n",
       "      <td>0.718</td>\n",
       "      <td>0.697</td>\n",
       "    </tr>\n",
       "    <tr>\n",
       "      <th>6</th>\n",
       "      <td>Adaptive Boost</td>\n",
       "      <td>0.698</td>\n",
       "      <td>0.678</td>\n",
       "    </tr>\n",
       "    <tr>\n",
       "      <th>8</th>\n",
       "      <td>Naive Bayes Gaussian</td>\n",
       "      <td>0.623</td>\n",
       "      <td>0.620</td>\n",
       "    </tr>\n",
       "    <tr>\n",
       "      <th>9</th>\n",
       "      <td>Naive Bayes Multinomial</td>\n",
       "      <td>0.599</td>\n",
       "      <td>0.614</td>\n",
       "    </tr>\n",
       "    <tr>\n",
       "      <th>10</th>\n",
       "      <td>Naive Bayes Bernoulli</td>\n",
       "      <td>0.601</td>\n",
       "      <td>0.614</td>\n",
       "    </tr>\n",
       "  </tbody>\n",
       "</table>\n",
       "</div>"
      ],
      "text/plain": [
       "                 Classifier  Training Accuracy  Test Accuracy\n",
       "5     Extremely Random Tree              1.000          0.804\n",
       "0             Random Forest              1.000          0.798\n",
       "7                  XG Boost              0.994          0.777\n",
       "1            Gradient Boost              0.800          0.742\n",
       "2                       SVM              0.768          0.734\n",
       "4             Decision Tree              1.000          0.721\n",
       "3                       KNN              0.816          0.708\n",
       "11      Logistic Regression              0.718          0.697\n",
       "6            Adaptive Boost              0.698          0.678\n",
       "8      Naive Bayes Gaussian              0.623          0.620\n",
       "9   Naive Bayes Multinomial              0.599          0.614\n",
       "10    Naive Bayes Bernoulli              0.601          0.614"
      ]
     },
     "metadata": {},
     "output_type": "display_data"
    },
    {
     "data": {
      "application/vnd.microsoft.datawrangler.viewer.v0+json": {
       "columns": [
        {
         "name": "index",
         "rawType": "int64",
         "type": "integer"
        },
        {
         "name": "Regressor",
         "rawType": "object",
         "type": "string"
        },
        {
         "name": "MSE",
         "rawType": "float64",
         "type": "float"
        },
        {
         "name": "R Squared",
         "rawType": "float64",
         "type": "float"
        }
       ],
       "conversionMethod": "pd.DataFrame",
       "ref": "af53688d-9245-4bc1-b1fd-0c3f52194640",
       "rows": [
        [
         "2",
         "Lasso",
         "0.276",
         "-0.0"
        ],
        [
         "0",
         "Linear Regression",
         "0.215",
         "0.22"
        ],
        [
         "1",
         "Ridge",
         "0.215",
         "0.22"
        ]
       ],
       "shape": {
        "columns": 3,
        "rows": 3
       }
      },
      "text/html": [
       "<div>\n",
       "<style scoped>\n",
       "    .dataframe tbody tr th:only-of-type {\n",
       "        vertical-align: middle;\n",
       "    }\n",
       "\n",
       "    .dataframe tbody tr th {\n",
       "        vertical-align: top;\n",
       "    }\n",
       "\n",
       "    .dataframe thead th {\n",
       "        text-align: right;\n",
       "    }\n",
       "</style>\n",
       "<table border=\"1\" class=\"dataframe\">\n",
       "  <thead>\n",
       "    <tr style=\"text-align: right;\">\n",
       "      <th></th>\n",
       "      <th>Regressor</th>\n",
       "      <th>MSE</th>\n",
       "      <th>R Squared</th>\n",
       "    </tr>\n",
       "  </thead>\n",
       "  <tbody>\n",
       "    <tr>\n",
       "      <th>2</th>\n",
       "      <td>Lasso</td>\n",
       "      <td>0.276</td>\n",
       "      <td>-0.00</td>\n",
       "    </tr>\n",
       "    <tr>\n",
       "      <th>0</th>\n",
       "      <td>Linear Regression</td>\n",
       "      <td>0.215</td>\n",
       "      <td>0.22</td>\n",
       "    </tr>\n",
       "    <tr>\n",
       "      <th>1</th>\n",
       "      <td>Ridge</td>\n",
       "      <td>0.215</td>\n",
       "      <td>0.22</td>\n",
       "    </tr>\n",
       "  </tbody>\n",
       "</table>\n",
       "</div>"
      ],
      "text/plain": [
       "           Regressor    MSE  R Squared\n",
       "2              Lasso  0.276      -0.00\n",
       "0  Linear Regression  0.215       0.22\n",
       "1              Ridge  0.215       0.22"
      ]
     },
     "metadata": {},
     "output_type": "display_data"
    }
   ],
   "source": [
    "# Both colors in 1 dataset with the color encoded and 3 quality classes\n",
    "display(model_report_function(wine_data_encoded_cat)[0].round(3))\n",
    "display(model_report_function(wine_data_encoded_cat)[1].round(3))"
   ]
  },
  {
   "cell_type": "code",
   "execution_count": 73,
   "metadata": {},
   "outputs": [
    {
     "data": {
      "application/vnd.microsoft.datawrangler.viewer.v0+json": {
       "columns": [
        {
         "name": "index",
         "rawType": "int64",
         "type": "integer"
        },
        {
         "name": "Classifier",
         "rawType": "object",
         "type": "string"
        },
        {
         "name": "Training Accuracy",
         "rawType": "float64",
         "type": "float"
        },
        {
         "name": "Test Accuracy",
         "rawType": "float64",
         "type": "float"
        }
       ],
       "conversionMethod": "pd.DataFrame",
       "ref": "90307478-2530-49d8-ae38-4e69f0981f1e",
       "rows": [
        [
         "5",
         "Extremely Random Tree",
         "1.0",
         "0.692"
        ],
        [
         "7",
         "XG Boost",
         "1.0",
         "0.68"
        ],
        [
         "0",
         "Random Forest",
         "1.0",
         "0.67"
        ],
        [
         "1",
         "Gradient Boost",
         "0.9",
         "0.638"
        ],
        [
         "2",
         "SVM",
         "0.671",
         "0.628"
        ],
        [
         "11",
         "Logistic Regression",
         "0.614",
         "0.588"
        ],
        [
         "4",
         "Decision Tree",
         "1.0",
         "0.582"
        ],
        [
         "3",
         "KNN",
         "0.713",
         "0.578"
        ],
        [
         "8",
         "Naive Bayes Gaussian",
         "0.57",
         "0.545"
        ],
        [
         "6",
         "Adaptive Boost",
         "0.56",
         "0.522"
        ],
        [
         "9",
         "Naive Bayes Multinomial",
         "0.531",
         "0.498"
        ],
        [
         "10",
         "Naive Bayes Bernoulli",
         "0.431",
         "0.41"
        ]
       ],
       "shape": {
        "columns": 3,
        "rows": 12
       }
      },
      "text/html": [
       "<div>\n",
       "<style scoped>\n",
       "    .dataframe tbody tr th:only-of-type {\n",
       "        vertical-align: middle;\n",
       "    }\n",
       "\n",
       "    .dataframe tbody tr th {\n",
       "        vertical-align: top;\n",
       "    }\n",
       "\n",
       "    .dataframe thead th {\n",
       "        text-align: right;\n",
       "    }\n",
       "</style>\n",
       "<table border=\"1\" class=\"dataframe\">\n",
       "  <thead>\n",
       "    <tr style=\"text-align: right;\">\n",
       "      <th></th>\n",
       "      <th>Classifier</th>\n",
       "      <th>Training Accuracy</th>\n",
       "      <th>Test Accuracy</th>\n",
       "    </tr>\n",
       "  </thead>\n",
       "  <tbody>\n",
       "    <tr>\n",
       "      <th>5</th>\n",
       "      <td>Extremely Random Tree</td>\n",
       "      <td>1.000</td>\n",
       "      <td>0.692</td>\n",
       "    </tr>\n",
       "    <tr>\n",
       "      <th>7</th>\n",
       "      <td>XG Boost</td>\n",
       "      <td>1.000</td>\n",
       "      <td>0.680</td>\n",
       "    </tr>\n",
       "    <tr>\n",
       "      <th>0</th>\n",
       "      <td>Random Forest</td>\n",
       "      <td>1.000</td>\n",
       "      <td>0.670</td>\n",
       "    </tr>\n",
       "    <tr>\n",
       "      <th>1</th>\n",
       "      <td>Gradient Boost</td>\n",
       "      <td>0.900</td>\n",
       "      <td>0.638</td>\n",
       "    </tr>\n",
       "    <tr>\n",
       "      <th>2</th>\n",
       "      <td>SVM</td>\n",
       "      <td>0.671</td>\n",
       "      <td>0.628</td>\n",
       "    </tr>\n",
       "    <tr>\n",
       "      <th>11</th>\n",
       "      <td>Logistic Regression</td>\n",
       "      <td>0.614</td>\n",
       "      <td>0.588</td>\n",
       "    </tr>\n",
       "    <tr>\n",
       "      <th>4</th>\n",
       "      <td>Decision Tree</td>\n",
       "      <td>1.000</td>\n",
       "      <td>0.582</td>\n",
       "    </tr>\n",
       "    <tr>\n",
       "      <th>3</th>\n",
       "      <td>KNN</td>\n",
       "      <td>0.713</td>\n",
       "      <td>0.578</td>\n",
       "    </tr>\n",
       "    <tr>\n",
       "      <th>8</th>\n",
       "      <td>Naive Bayes Gaussian</td>\n",
       "      <td>0.570</td>\n",
       "      <td>0.545</td>\n",
       "    </tr>\n",
       "    <tr>\n",
       "      <th>6</th>\n",
       "      <td>Adaptive Boost</td>\n",
       "      <td>0.560</td>\n",
       "      <td>0.522</td>\n",
       "    </tr>\n",
       "    <tr>\n",
       "      <th>9</th>\n",
       "      <td>Naive Bayes Multinomial</td>\n",
       "      <td>0.531</td>\n",
       "      <td>0.498</td>\n",
       "    </tr>\n",
       "    <tr>\n",
       "      <th>10</th>\n",
       "      <td>Naive Bayes Bernoulli</td>\n",
       "      <td>0.431</td>\n",
       "      <td>0.410</td>\n",
       "    </tr>\n",
       "  </tbody>\n",
       "</table>\n",
       "</div>"
      ],
      "text/plain": [
       "                 Classifier  Training Accuracy  Test Accuracy\n",
       "5     Extremely Random Tree              1.000          0.692\n",
       "7                  XG Boost              1.000          0.680\n",
       "0             Random Forest              1.000          0.670\n",
       "1            Gradient Boost              0.900          0.638\n",
       "2                       SVM              0.671          0.628\n",
       "11      Logistic Regression              0.614          0.588\n",
       "4             Decision Tree              1.000          0.582\n",
       "3                       KNN              0.713          0.578\n",
       "8      Naive Bayes Gaussian              0.570          0.545\n",
       "6            Adaptive Boost              0.560          0.522\n",
       "9   Naive Bayes Multinomial              0.531          0.498\n",
       "10    Naive Bayes Bernoulli              0.431          0.410"
      ]
     },
     "metadata": {},
     "output_type": "display_data"
    },
    {
     "data": {
      "application/vnd.microsoft.datawrangler.viewer.v0+json": {
       "columns": [
        {
         "name": "index",
         "rawType": "int64",
         "type": "integer"
        },
        {
         "name": "Regressor",
         "rawType": "object",
         "type": "string"
        },
        {
         "name": "MSE",
         "rawType": "float64",
         "type": "float"
        },
        {
         "name": "R Squared",
         "rawType": "float64",
         "type": "float"
        }
       ],
       "conversionMethod": "pd.DataFrame",
       "ref": "f5eb1e6c-cc98-4bcd-9d22-9a2518c3ba1a",
       "rows": [
        [
         "2",
         "Lasso",
         "0.62",
         "-0.002"
        ],
        [
         "1",
         "Ridge",
         "0.388",
         "0.372"
        ],
        [
         "0",
         "Linear Regression",
         "0.388",
         "0.372"
        ]
       ],
       "shape": {
        "columns": 3,
        "rows": 3
       }
      },
      "text/html": [
       "<div>\n",
       "<style scoped>\n",
       "    .dataframe tbody tr th:only-of-type {\n",
       "        vertical-align: middle;\n",
       "    }\n",
       "\n",
       "    .dataframe tbody tr th {\n",
       "        vertical-align: top;\n",
       "    }\n",
       "\n",
       "    .dataframe thead th {\n",
       "        text-align: right;\n",
       "    }\n",
       "</style>\n",
       "<table border=\"1\" class=\"dataframe\">\n",
       "  <thead>\n",
       "    <tr style=\"text-align: right;\">\n",
       "      <th></th>\n",
       "      <th>Regressor</th>\n",
       "      <th>MSE</th>\n",
       "      <th>R Squared</th>\n",
       "    </tr>\n",
       "  </thead>\n",
       "  <tbody>\n",
       "    <tr>\n",
       "      <th>2</th>\n",
       "      <td>Lasso</td>\n",
       "      <td>0.620</td>\n",
       "      <td>-0.002</td>\n",
       "    </tr>\n",
       "    <tr>\n",
       "      <th>1</th>\n",
       "      <td>Ridge</td>\n",
       "      <td>0.388</td>\n",
       "      <td>0.372</td>\n",
       "    </tr>\n",
       "    <tr>\n",
       "      <th>0</th>\n",
       "      <td>Linear Regression</td>\n",
       "      <td>0.388</td>\n",
       "      <td>0.372</td>\n",
       "    </tr>\n",
       "  </tbody>\n",
       "</table>\n",
       "</div>"
      ],
      "text/plain": [
       "           Regressor    MSE  R Squared\n",
       "2              Lasso  0.620     -0.002\n",
       "1              Ridge  0.388      0.372\n",
       "0  Linear Regression  0.388      0.372"
      ]
     },
     "metadata": {},
     "output_type": "display_data"
    }
   ],
   "source": [
    "#Red data only, 9 quality categories\n",
    "display(model_report_function(wine_data_red)[0].round(3))\n",
    "display(model_report_function(wine_data_red)[1].round(3))\n"
   ]
  },
  {
   "cell_type": "code",
   "execution_count": 74,
   "metadata": {},
   "outputs": [
    {
     "data": {
      "application/vnd.microsoft.datawrangler.viewer.v0+json": {
       "columns": [
        {
         "name": "index",
         "rawType": "int64",
         "type": "integer"
        },
        {
         "name": "Classifier",
         "rawType": "object",
         "type": "string"
        },
        {
         "name": "Training Accuracy",
         "rawType": "float64",
         "type": "float"
        },
        {
         "name": "Test Accuracy",
         "rawType": "float64",
         "type": "float"
        }
       ],
       "conversionMethod": "pd.DataFrame",
       "ref": "a1c73b00-5ec1-456f-9dbc-0422f39c7077",
       "rows": [
        [
         "7",
         "XG Boost",
         "1.0",
         "0.79"
        ],
        [
         "5",
         "Extremely Random Tree",
         "1.0",
         "0.785"
        ],
        [
         "0",
         "Random Forest",
         "1.0",
         "0.775"
        ],
        [
         "1",
         "Gradient Boost",
         "0.892",
         "0.755"
        ],
        [
         "2",
         "SVM",
         "0.791",
         "0.748"
        ],
        [
         "8",
         "Naive Bayes Gaussian",
         "0.715",
         "0.728"
        ],
        [
         "4",
         "Decision Tree",
         "1.0",
         "0.72"
        ],
        [
         "11",
         "Logistic Regression",
         "0.741",
         "0.712"
        ],
        [
         "3",
         "KNN",
         "0.809",
         "0.685"
        ],
        [
         "6",
         "Adaptive Boost",
         "0.692",
         "0.68"
        ],
        [
         "9",
         "Naive Bayes Multinomial",
         "0.671",
         "0.652"
        ],
        [
         "10",
         "Naive Bayes Bernoulli",
         "0.52",
         "0.552"
        ]
       ],
       "shape": {
        "columns": 3,
        "rows": 12
       }
      },
      "text/html": [
       "<div>\n",
       "<style scoped>\n",
       "    .dataframe tbody tr th:only-of-type {\n",
       "        vertical-align: middle;\n",
       "    }\n",
       "\n",
       "    .dataframe tbody tr th {\n",
       "        vertical-align: top;\n",
       "    }\n",
       "\n",
       "    .dataframe thead th {\n",
       "        text-align: right;\n",
       "    }\n",
       "</style>\n",
       "<table border=\"1\" class=\"dataframe\">\n",
       "  <thead>\n",
       "    <tr style=\"text-align: right;\">\n",
       "      <th></th>\n",
       "      <th>Classifier</th>\n",
       "      <th>Training Accuracy</th>\n",
       "      <th>Test Accuracy</th>\n",
       "    </tr>\n",
       "  </thead>\n",
       "  <tbody>\n",
       "    <tr>\n",
       "      <th>7</th>\n",
       "      <td>XG Boost</td>\n",
       "      <td>1.000</td>\n",
       "      <td>0.790</td>\n",
       "    </tr>\n",
       "    <tr>\n",
       "      <th>5</th>\n",
       "      <td>Extremely Random Tree</td>\n",
       "      <td>1.000</td>\n",
       "      <td>0.785</td>\n",
       "    </tr>\n",
       "    <tr>\n",
       "      <th>0</th>\n",
       "      <td>Random Forest</td>\n",
       "      <td>1.000</td>\n",
       "      <td>0.775</td>\n",
       "    </tr>\n",
       "    <tr>\n",
       "      <th>1</th>\n",
       "      <td>Gradient Boost</td>\n",
       "      <td>0.892</td>\n",
       "      <td>0.755</td>\n",
       "    </tr>\n",
       "    <tr>\n",
       "      <th>2</th>\n",
       "      <td>SVM</td>\n",
       "      <td>0.791</td>\n",
       "      <td>0.748</td>\n",
       "    </tr>\n",
       "    <tr>\n",
       "      <th>8</th>\n",
       "      <td>Naive Bayes Gaussian</td>\n",
       "      <td>0.715</td>\n",
       "      <td>0.728</td>\n",
       "    </tr>\n",
       "    <tr>\n",
       "      <th>4</th>\n",
       "      <td>Decision Tree</td>\n",
       "      <td>1.000</td>\n",
       "      <td>0.720</td>\n",
       "    </tr>\n",
       "    <tr>\n",
       "      <th>11</th>\n",
       "      <td>Logistic Regression</td>\n",
       "      <td>0.741</td>\n",
       "      <td>0.712</td>\n",
       "    </tr>\n",
       "    <tr>\n",
       "      <th>3</th>\n",
       "      <td>KNN</td>\n",
       "      <td>0.809</td>\n",
       "      <td>0.685</td>\n",
       "    </tr>\n",
       "    <tr>\n",
       "      <th>6</th>\n",
       "      <td>Adaptive Boost</td>\n",
       "      <td>0.692</td>\n",
       "      <td>0.680</td>\n",
       "    </tr>\n",
       "    <tr>\n",
       "      <th>9</th>\n",
       "      <td>Naive Bayes Multinomial</td>\n",
       "      <td>0.671</td>\n",
       "      <td>0.652</td>\n",
       "    </tr>\n",
       "    <tr>\n",
       "      <th>10</th>\n",
       "      <td>Naive Bayes Bernoulli</td>\n",
       "      <td>0.520</td>\n",
       "      <td>0.552</td>\n",
       "    </tr>\n",
       "  </tbody>\n",
       "</table>\n",
       "</div>"
      ],
      "text/plain": [
       "                 Classifier  Training Accuracy  Test Accuracy\n",
       "7                  XG Boost              1.000          0.790\n",
       "5     Extremely Random Tree              1.000          0.785\n",
       "0             Random Forest              1.000          0.775\n",
       "1            Gradient Boost              0.892          0.755\n",
       "2                       SVM              0.791          0.748\n",
       "8      Naive Bayes Gaussian              0.715          0.728\n",
       "4             Decision Tree              1.000          0.720\n",
       "11      Logistic Regression              0.741          0.712\n",
       "3                       KNN              0.809          0.685\n",
       "6            Adaptive Boost              0.692          0.680\n",
       "9   Naive Bayes Multinomial              0.671          0.652\n",
       "10    Naive Bayes Bernoulli              0.520          0.552"
      ]
     },
     "metadata": {},
     "output_type": "display_data"
    },
    {
     "data": {
      "application/vnd.microsoft.datawrangler.viewer.v0+json": {
       "columns": [
        {
         "name": "index",
         "rawType": "int64",
         "type": "integer"
        },
        {
         "name": "Regressor",
         "rawType": "object",
         "type": "string"
        },
        {
         "name": "MSE",
         "rawType": "float64",
         "type": "float"
        },
        {
         "name": "R Squared",
         "rawType": "float64",
         "type": "float"
        }
       ],
       "conversionMethod": "pd.DataFrame",
       "ref": "470f6c19-192b-4102-bad2-4482de1d3ecb",
       "rows": [
        [
         "2",
         "Lasso",
         "0.271",
         "-0.003"
        ],
        [
         "0",
         "Linear Regression",
         "0.193",
         "0.288"
        ],
        [
         "1",
         "Ridge",
         "0.193",
         "0.288"
        ]
       ],
       "shape": {
        "columns": 3,
        "rows": 3
       }
      },
      "text/html": [
       "<div>\n",
       "<style scoped>\n",
       "    .dataframe tbody tr th:only-of-type {\n",
       "        vertical-align: middle;\n",
       "    }\n",
       "\n",
       "    .dataframe tbody tr th {\n",
       "        vertical-align: top;\n",
       "    }\n",
       "\n",
       "    .dataframe thead th {\n",
       "        text-align: right;\n",
       "    }\n",
       "</style>\n",
       "<table border=\"1\" class=\"dataframe\">\n",
       "  <thead>\n",
       "    <tr style=\"text-align: right;\">\n",
       "      <th></th>\n",
       "      <th>Regressor</th>\n",
       "      <th>MSE</th>\n",
       "      <th>R Squared</th>\n",
       "    </tr>\n",
       "  </thead>\n",
       "  <tbody>\n",
       "    <tr>\n",
       "      <th>2</th>\n",
       "      <td>Lasso</td>\n",
       "      <td>0.271</td>\n",
       "      <td>-0.003</td>\n",
       "    </tr>\n",
       "    <tr>\n",
       "      <th>0</th>\n",
       "      <td>Linear Regression</td>\n",
       "      <td>0.193</td>\n",
       "      <td>0.288</td>\n",
       "    </tr>\n",
       "    <tr>\n",
       "      <th>1</th>\n",
       "      <td>Ridge</td>\n",
       "      <td>0.193</td>\n",
       "      <td>0.288</td>\n",
       "    </tr>\n",
       "  </tbody>\n",
       "</table>\n",
       "</div>"
      ],
      "text/plain": [
       "           Regressor    MSE  R Squared\n",
       "2              Lasso  0.271     -0.003\n",
       "0  Linear Regression  0.193      0.288\n",
       "1              Ridge  0.193      0.288"
      ]
     },
     "metadata": {},
     "output_type": "display_data"
    }
   ],
   "source": [
    "#Red data only with 3 quality classes\n",
    "display(model_report_function(wine_data_red_cat)[0].round(3))\n",
    "display(model_report_function(wine_data_red_cat)[1].round(3))"
   ]
  },
  {
   "cell_type": "code",
   "execution_count": 75,
   "metadata": {},
   "outputs": [
    {
     "data": {
      "application/vnd.microsoft.datawrangler.viewer.v0+json": {
       "columns": [
        {
         "name": "index",
         "rawType": "int64",
         "type": "integer"
        },
        {
         "name": "Classifier",
         "rawType": "object",
         "type": "string"
        },
        {
         "name": "Training Accuracy",
         "rawType": "float64",
         "type": "float"
        },
        {
         "name": "Test Accuracy",
         "rawType": "float64",
         "type": "float"
        }
       ],
       "conversionMethod": "pd.DataFrame",
       "ref": "130f1bb2-13b6-4c71-85ea-6ce0c5631504",
       "rows": [
        [
         "5",
         "Extremely Random Tree",
         "1.0",
         "0.687"
        ],
        [
         "0",
         "Random Forest",
         "1.0",
         "0.672"
        ],
        [
         "7",
         "XG Boost",
         "0.998",
         "0.664"
        ],
        [
         "4",
         "Decision Tree",
         "1.0",
         "0.597"
        ],
        [
         "1",
         "Gradient Boost",
         "0.734",
         "0.568"
        ],
        [
         "2",
         "SVM",
         "0.622",
         "0.558"
        ],
        [
         "3",
         "KNN",
         "0.695",
         "0.542"
        ],
        [
         "11",
         "Logistic Regression",
         "0.551",
         "0.526"
        ],
        [
         "9",
         "Naive Bayes Multinomial",
         "0.45",
         "0.444"
        ],
        [
         "10",
         "Naive Bayes Bernoulli",
         "0.45",
         "0.444"
        ],
        [
         "8",
         "Naive Bayes Gaussian",
         "0.455",
         "0.421"
        ],
        [
         "6",
         "Adaptive Boost",
         "0.44",
         "0.411"
        ]
       ],
       "shape": {
        "columns": 3,
        "rows": 12
       }
      },
      "text/html": [
       "<div>\n",
       "<style scoped>\n",
       "    .dataframe tbody tr th:only-of-type {\n",
       "        vertical-align: middle;\n",
       "    }\n",
       "\n",
       "    .dataframe tbody tr th {\n",
       "        vertical-align: top;\n",
       "    }\n",
       "\n",
       "    .dataframe thead th {\n",
       "        text-align: right;\n",
       "    }\n",
       "</style>\n",
       "<table border=\"1\" class=\"dataframe\">\n",
       "  <thead>\n",
       "    <tr style=\"text-align: right;\">\n",
       "      <th></th>\n",
       "      <th>Classifier</th>\n",
       "      <th>Training Accuracy</th>\n",
       "      <th>Test Accuracy</th>\n",
       "    </tr>\n",
       "  </thead>\n",
       "  <tbody>\n",
       "    <tr>\n",
       "      <th>5</th>\n",
       "      <td>Extremely Random Tree</td>\n",
       "      <td>1.000</td>\n",
       "      <td>0.687</td>\n",
       "    </tr>\n",
       "    <tr>\n",
       "      <th>0</th>\n",
       "      <td>Random Forest</td>\n",
       "      <td>1.000</td>\n",
       "      <td>0.672</td>\n",
       "    </tr>\n",
       "    <tr>\n",
       "      <th>7</th>\n",
       "      <td>XG Boost</td>\n",
       "      <td>0.998</td>\n",
       "      <td>0.664</td>\n",
       "    </tr>\n",
       "    <tr>\n",
       "      <th>4</th>\n",
       "      <td>Decision Tree</td>\n",
       "      <td>1.000</td>\n",
       "      <td>0.597</td>\n",
       "    </tr>\n",
       "    <tr>\n",
       "      <th>1</th>\n",
       "      <td>Gradient Boost</td>\n",
       "      <td>0.734</td>\n",
       "      <td>0.568</td>\n",
       "    </tr>\n",
       "    <tr>\n",
       "      <th>2</th>\n",
       "      <td>SVM</td>\n",
       "      <td>0.622</td>\n",
       "      <td>0.558</td>\n",
       "    </tr>\n",
       "    <tr>\n",
       "      <th>3</th>\n",
       "      <td>KNN</td>\n",
       "      <td>0.695</td>\n",
       "      <td>0.542</td>\n",
       "    </tr>\n",
       "    <tr>\n",
       "      <th>11</th>\n",
       "      <td>Logistic Regression</td>\n",
       "      <td>0.551</td>\n",
       "      <td>0.526</td>\n",
       "    </tr>\n",
       "    <tr>\n",
       "      <th>9</th>\n",
       "      <td>Naive Bayes Multinomial</td>\n",
       "      <td>0.450</td>\n",
       "      <td>0.444</td>\n",
       "    </tr>\n",
       "    <tr>\n",
       "      <th>10</th>\n",
       "      <td>Naive Bayes Bernoulli</td>\n",
       "      <td>0.450</td>\n",
       "      <td>0.444</td>\n",
       "    </tr>\n",
       "    <tr>\n",
       "      <th>8</th>\n",
       "      <td>Naive Bayes Gaussian</td>\n",
       "      <td>0.455</td>\n",
       "      <td>0.421</td>\n",
       "    </tr>\n",
       "    <tr>\n",
       "      <th>6</th>\n",
       "      <td>Adaptive Boost</td>\n",
       "      <td>0.440</td>\n",
       "      <td>0.411</td>\n",
       "    </tr>\n",
       "  </tbody>\n",
       "</table>\n",
       "</div>"
      ],
      "text/plain": [
       "                 Classifier  Training Accuracy  Test Accuracy\n",
       "5     Extremely Random Tree              1.000          0.687\n",
       "0             Random Forest              1.000          0.672\n",
       "7                  XG Boost              0.998          0.664\n",
       "4             Decision Tree              1.000          0.597\n",
       "1            Gradient Boost              0.734          0.568\n",
       "2                       SVM              0.622          0.558\n",
       "3                       KNN              0.695          0.542\n",
       "11      Logistic Regression              0.551          0.526\n",
       "9   Naive Bayes Multinomial              0.450          0.444\n",
       "10    Naive Bayes Bernoulli              0.450          0.444\n",
       "8      Naive Bayes Gaussian              0.455          0.421\n",
       "6            Adaptive Boost              0.440          0.411"
      ]
     },
     "metadata": {},
     "output_type": "display_data"
    },
    {
     "data": {
      "application/vnd.microsoft.datawrangler.viewer.v0+json": {
       "columns": [
        {
         "name": "index",
         "rawType": "int64",
         "type": "integer"
        },
        {
         "name": "Regressor",
         "rawType": "object",
         "type": "string"
        },
        {
         "name": "MSE",
         "rawType": "float64",
         "type": "float"
        },
        {
         "name": "R Squared",
         "rawType": "float64",
         "type": "float"
        }
       ],
       "conversionMethod": "pd.DataFrame",
       "ref": "b56023aa-a0bd-44b1-81df-37b88db42d2b",
       "rows": [
        [
         "2",
         "Lasso",
         "0.778",
         "-0.002"
        ],
        [
         "1",
         "Ridge",
         "0.565",
         "0.273"
        ],
        [
         "0",
         "Linear Regression",
         "0.565",
         "0.273"
        ]
       ],
       "shape": {
        "columns": 3,
        "rows": 3
       }
      },
      "text/html": [
       "<div>\n",
       "<style scoped>\n",
       "    .dataframe tbody tr th:only-of-type {\n",
       "        vertical-align: middle;\n",
       "    }\n",
       "\n",
       "    .dataframe tbody tr th {\n",
       "        vertical-align: top;\n",
       "    }\n",
       "\n",
       "    .dataframe thead th {\n",
       "        text-align: right;\n",
       "    }\n",
       "</style>\n",
       "<table border=\"1\" class=\"dataframe\">\n",
       "  <thead>\n",
       "    <tr style=\"text-align: right;\">\n",
       "      <th></th>\n",
       "      <th>Regressor</th>\n",
       "      <th>MSE</th>\n",
       "      <th>R Squared</th>\n",
       "    </tr>\n",
       "  </thead>\n",
       "  <tbody>\n",
       "    <tr>\n",
       "      <th>2</th>\n",
       "      <td>Lasso</td>\n",
       "      <td>0.778</td>\n",
       "      <td>-0.002</td>\n",
       "    </tr>\n",
       "    <tr>\n",
       "      <th>1</th>\n",
       "      <td>Ridge</td>\n",
       "      <td>0.565</td>\n",
       "      <td>0.273</td>\n",
       "    </tr>\n",
       "    <tr>\n",
       "      <th>0</th>\n",
       "      <td>Linear Regression</td>\n",
       "      <td>0.565</td>\n",
       "      <td>0.273</td>\n",
       "    </tr>\n",
       "  </tbody>\n",
       "</table>\n",
       "</div>"
      ],
      "text/plain": [
       "           Regressor    MSE  R Squared\n",
       "2              Lasso  0.778     -0.002\n",
       "1              Ridge  0.565      0.273\n",
       "0  Linear Regression  0.565      0.273"
      ]
     },
     "metadata": {},
     "output_type": "display_data"
    }
   ],
   "source": [
    "#white wine data with 9 quality classes\n",
    "display(model_report_function(wine_data_white)[0].round(3))\n",
    "display(model_report_function(wine_data_white)[1].round(3))"
   ]
  },
  {
   "cell_type": "code",
   "execution_count": 76,
   "metadata": {},
   "outputs": [
    {
     "data": {
      "application/vnd.microsoft.datawrangler.viewer.v0+json": {
       "columns": [
        {
         "name": "index",
         "rawType": "int64",
         "type": "integer"
        },
        {
         "name": "Classifier",
         "rawType": "object",
         "type": "string"
        },
        {
         "name": "Training Accuracy",
         "rawType": "float64",
         "type": "float"
        },
        {
         "name": "Test Accuracy",
         "rawType": "float64",
         "type": "float"
        }
       ],
       "conversionMethod": "pd.DataFrame",
       "ref": "6e4d83d3-ab75-4e6a-8c3f-a7f38136c12b",
       "rows": [
        [
         "5",
         "Extremely Random Tree",
         "1.0",
         "0.812"
        ],
        [
         "0",
         "Random Forest",
         "1.0",
         "0.805"
        ],
        [
         "7",
         "XG Boost",
         "0.997",
         "0.797"
        ],
        [
         "1",
         "Gradient Boost",
         "0.813",
         "0.751"
        ],
        [
         "2",
         "SVM",
         "0.775",
         "0.748"
        ],
        [
         "4",
         "Decision Tree",
         "1.0",
         "0.736"
        ],
        [
         "3",
         "KNN",
         "0.816",
         "0.724"
        ],
        [
         "11",
         "Logistic Regression",
         "0.718",
         "0.711"
        ],
        [
         "6",
         "Adaptive Boost",
         "0.702",
         "0.697"
        ],
        [
         "8",
         "Naive Bayes Gaussian",
         "0.666",
         "0.673"
        ],
        [
         "9",
         "Naive Bayes Multinomial",
         "0.624",
         "0.641"
        ],
        [
         "10",
         "Naive Bayes Bernoulli",
         "0.625",
         "0.641"
        ]
       ],
       "shape": {
        "columns": 3,
        "rows": 12
       }
      },
      "text/html": [
       "<div>\n",
       "<style scoped>\n",
       "    .dataframe tbody tr th:only-of-type {\n",
       "        vertical-align: middle;\n",
       "    }\n",
       "\n",
       "    .dataframe tbody tr th {\n",
       "        vertical-align: top;\n",
       "    }\n",
       "\n",
       "    .dataframe thead th {\n",
       "        text-align: right;\n",
       "    }\n",
       "</style>\n",
       "<table border=\"1\" class=\"dataframe\">\n",
       "  <thead>\n",
       "    <tr style=\"text-align: right;\">\n",
       "      <th></th>\n",
       "      <th>Classifier</th>\n",
       "      <th>Training Accuracy</th>\n",
       "      <th>Test Accuracy</th>\n",
       "    </tr>\n",
       "  </thead>\n",
       "  <tbody>\n",
       "    <tr>\n",
       "      <th>5</th>\n",
       "      <td>Extremely Random Tree</td>\n",
       "      <td>1.000</td>\n",
       "      <td>0.812</td>\n",
       "    </tr>\n",
       "    <tr>\n",
       "      <th>0</th>\n",
       "      <td>Random Forest</td>\n",
       "      <td>1.000</td>\n",
       "      <td>0.805</td>\n",
       "    </tr>\n",
       "    <tr>\n",
       "      <th>7</th>\n",
       "      <td>XG Boost</td>\n",
       "      <td>0.997</td>\n",
       "      <td>0.797</td>\n",
       "    </tr>\n",
       "    <tr>\n",
       "      <th>1</th>\n",
       "      <td>Gradient Boost</td>\n",
       "      <td>0.813</td>\n",
       "      <td>0.751</td>\n",
       "    </tr>\n",
       "    <tr>\n",
       "      <th>2</th>\n",
       "      <td>SVM</td>\n",
       "      <td>0.775</td>\n",
       "      <td>0.748</td>\n",
       "    </tr>\n",
       "    <tr>\n",
       "      <th>4</th>\n",
       "      <td>Decision Tree</td>\n",
       "      <td>1.000</td>\n",
       "      <td>0.736</td>\n",
       "    </tr>\n",
       "    <tr>\n",
       "      <th>3</th>\n",
       "      <td>KNN</td>\n",
       "      <td>0.816</td>\n",
       "      <td>0.724</td>\n",
       "    </tr>\n",
       "    <tr>\n",
       "      <th>11</th>\n",
       "      <td>Logistic Regression</td>\n",
       "      <td>0.718</td>\n",
       "      <td>0.711</td>\n",
       "    </tr>\n",
       "    <tr>\n",
       "      <th>6</th>\n",
       "      <td>Adaptive Boost</td>\n",
       "      <td>0.702</td>\n",
       "      <td>0.697</td>\n",
       "    </tr>\n",
       "    <tr>\n",
       "      <th>8</th>\n",
       "      <td>Naive Bayes Gaussian</td>\n",
       "      <td>0.666</td>\n",
       "      <td>0.673</td>\n",
       "    </tr>\n",
       "    <tr>\n",
       "      <th>9</th>\n",
       "      <td>Naive Bayes Multinomial</td>\n",
       "      <td>0.624</td>\n",
       "      <td>0.641</td>\n",
       "    </tr>\n",
       "    <tr>\n",
       "      <th>10</th>\n",
       "      <td>Naive Bayes Bernoulli</td>\n",
       "      <td>0.625</td>\n",
       "      <td>0.641</td>\n",
       "    </tr>\n",
       "  </tbody>\n",
       "</table>\n",
       "</div>"
      ],
      "text/plain": [
       "                 Classifier  Training Accuracy  Test Accuracy\n",
       "5     Extremely Random Tree              1.000          0.812\n",
       "0             Random Forest              1.000          0.805\n",
       "7                  XG Boost              0.997          0.797\n",
       "1            Gradient Boost              0.813          0.751\n",
       "2                       SVM              0.775          0.748\n",
       "4             Decision Tree              1.000          0.736\n",
       "3                       KNN              0.816          0.724\n",
       "11      Logistic Regression              0.718          0.711\n",
       "6            Adaptive Boost              0.702          0.697\n",
       "8      Naive Bayes Gaussian              0.666          0.673\n",
       "9   Naive Bayes Multinomial              0.624          0.641\n",
       "10    Naive Bayes Bernoulli              0.625          0.641"
      ]
     },
     "metadata": {},
     "output_type": "display_data"
    },
    {
     "data": {
      "application/vnd.microsoft.datawrangler.viewer.v0+json": {
       "columns": [
        {
         "name": "index",
         "rawType": "int64",
         "type": "integer"
        },
        {
         "name": "Regressor",
         "rawType": "object",
         "type": "string"
        },
        {
         "name": "MSE",
         "rawType": "float64",
         "type": "float"
        },
        {
         "name": "R Squared",
         "rawType": "float64",
         "type": "float"
        }
       ],
       "conversionMethod": "pd.DataFrame",
       "ref": "fef2718c-d2e7-41c5-acf3-029b0dd607e8",
       "rows": [
        [
         "2",
         "Lasso",
         "0.276",
         "-0.001"
        ],
        [
         "1",
         "Ridge",
         "0.211",
         "0.235"
        ],
        [
         "0",
         "Linear Regression",
         "0.211",
         "0.235"
        ]
       ],
       "shape": {
        "columns": 3,
        "rows": 3
       }
      },
      "text/html": [
       "<div>\n",
       "<style scoped>\n",
       "    .dataframe tbody tr th:only-of-type {\n",
       "        vertical-align: middle;\n",
       "    }\n",
       "\n",
       "    .dataframe tbody tr th {\n",
       "        vertical-align: top;\n",
       "    }\n",
       "\n",
       "    .dataframe thead th {\n",
       "        text-align: right;\n",
       "    }\n",
       "</style>\n",
       "<table border=\"1\" class=\"dataframe\">\n",
       "  <thead>\n",
       "    <tr style=\"text-align: right;\">\n",
       "      <th></th>\n",
       "      <th>Regressor</th>\n",
       "      <th>MSE</th>\n",
       "      <th>R Squared</th>\n",
       "    </tr>\n",
       "  </thead>\n",
       "  <tbody>\n",
       "    <tr>\n",
       "      <th>2</th>\n",
       "      <td>Lasso</td>\n",
       "      <td>0.276</td>\n",
       "      <td>-0.001</td>\n",
       "    </tr>\n",
       "    <tr>\n",
       "      <th>1</th>\n",
       "      <td>Ridge</td>\n",
       "      <td>0.211</td>\n",
       "      <td>0.235</td>\n",
       "    </tr>\n",
       "    <tr>\n",
       "      <th>0</th>\n",
       "      <td>Linear Regression</td>\n",
       "      <td>0.211</td>\n",
       "      <td>0.235</td>\n",
       "    </tr>\n",
       "  </tbody>\n",
       "</table>\n",
       "</div>"
      ],
      "text/plain": [
       "           Regressor    MSE  R Squared\n",
       "2              Lasso  0.276     -0.001\n",
       "1              Ridge  0.211      0.235\n",
       "0  Linear Regression  0.211      0.235"
      ]
     },
     "metadata": {},
     "output_type": "display_data"
    }
   ],
   "source": [
    "#white wine data with 3 quality classes\n",
    "display(model_report_function(wine_data_white_cat)[0].round(3))\n",
    "display(model_report_function(wine_data_white_cat)[1].round(3))"
   ]
  },
  {
   "cell_type": "markdown",
   "metadata": {},
   "source": [
    "### In depth Analysis on models"
   ]
  },
  {
   "cell_type": "code",
   "execution_count": 84,
   "metadata": {},
   "outputs": [
    {
     "name": "stdout",
     "output_type": "stream",
     "text": [
      "Best parameters: {'max_depth': 30, 'max_features': 'sqrt', 'min_samples_leaf': 1, 'min_samples_split': 5, 'n_estimators': 100}\n"
     ]
    }
   ],
   "source": [
    "#extremely random trees\n",
    "#grid search\n",
    "\n",
    "X_train_scaled, X_test_scaled, y_train, y_test = train_test_scale_function(wine_data_encoded_cat,\"ert\")\n",
    "\n",
    "param_grid = {\n",
    "    'n_estimators': [100, 200, 300],\n",
    "    'max_depth': [None, 10, 20, 30],\n",
    "    'min_samples_split': [2, 5, 10],\n",
    "    'min_samples_leaf': [1, 2, 4],\n",
    "    'max_features': ['sqrt', 'log2']\n",
    "}\n",
    "\n",
    "etc = ExtraTreesClassifier(random_state=42)\n",
    "grid_search = GridSearchCV(estimator=etc, param_grid=param_grid, cv=5, scoring='accuracy')\n",
    "grid_search.fit(X_train_scaled, y_train)\n",
    "\n",
    "print(\"Best parameters:\", grid_search.best_params_)"
   ]
  },
  {
   "cell_type": "code",
   "execution_count": 129,
   "metadata": {},
   "outputs": [
    {
     "data": {
      "image/png": "[encoded data removed]",
      "text/plain": [
       "<Figure size 640x480 with 1 Axes>"
      ]
     },
     "metadata": {},
     "output_type": "display_data"
    }
   ],
   "source": [
    "#max depth tuning around 30\n",
    "\n",
    "X_train_scaled, X_test_scaled, y_train, y_test = train_test_scale_function(wine_data_encoded_cat,\"ert\")\n",
    "\n",
    "\n",
    "n=50\n",
    "accuracy=[]\n",
    "for i in range(n):\n",
    "    ert_model=ExtraTreesClassifier(random_state=42, max_depth=i+1)\n",
    "    ert_model=ert_model.fit(X_train_scaled,y_train)\n",
    "    predictions=ert_model.predict(X_test_scaled)\n",
    "    accuracy.append(accuracy_score(y_test,predictions))\n",
    "\n",
    "plt.plot(range(1,n+1), accuracy)\n",
    "plt.xticks(ticks=range(n), rotation=90)\n",
    "plt.grid(True)\n",
    "plt.xlabel(\"Max Depth\")\n",
    "plt.ylabel(\"Accuracy of prediction\")\n",
    "plt.title(\"Effect of the max depth on the prediction accuracy\")\n",
    "plt.show()"
   ]
  },
  {
   "cell_type": "code",
   "execution_count": 118,
   "metadata": {},
   "outputs": [
    {
     "data": {
      "image/png": "[encoded data removed]",
      "text/plain": [
       "<Figure size 640x480 with 1 Axes>"
      ]
     },
     "metadata": {},
     "output_type": "display_data"
    }
   ],
   "source": [
    "#min_samples_leaf around 1\n",
    "\n",
    "X_train_scaled, X_test_scaled, y_train, y_test = train_test_scale_function(wine_data_encoded_cat,\"ert\")\n",
    "\n",
    "\n",
    "n=5\n",
    "accuracy=[]\n",
    "for i in range(n):\n",
    "    ert_model=ExtraTreesClassifier(random_state=42, min_samples_leaf=i+1)\n",
    "    ert_model=ert_model.fit(X_train_scaled,y_train)\n",
    "    predictions=ert_model.predict(X_test_scaled)\n",
    "    accuracy.append(accuracy_score(y_test,predictions))\n",
    "\n",
    "plt.plot(range(1,n+1), accuracy)\n",
    "plt.xlabel(\"Min Samples per Leaf\")\n",
    "plt.ylabel(\"Accuracy of prediction\")\n",
    "plt.title(\"Effect of the min samples per leaf on the prediction accuracy\")\n",
    "plt.show()"
   ]
  },
  {
   "cell_type": "code",
   "execution_count": 122,
   "metadata": {},
   "outputs": [
    {
     "data": {
      "image/png": "[encoded data removed]",
      "text/plain": [
       "<Figure size 640x480 with 1 Axes>"
      ]
     },
     "metadata": {},
     "output_type": "display_data"
    }
   ],
   "source": [
    "#tuning around min_sample_split\n",
    "\n",
    "X_train_scaled, X_test_scaled, y_train, y_test = train_test_scale_function(wine_data_encoded_cat,\"ert\")\n",
    "\n",
    "\n",
    "n=10\n",
    "accuracy=[]\n",
    "for i in range(2,n,1):\n",
    "    ert_model=ExtraTreesClassifier(random_state=42, min_samples_split=i+1)\n",
    "    ert_model=ert_model.fit(X_train_scaled,y_train)\n",
    "    predictions=ert_model.predict(X_test_scaled)\n",
    "    accuracy.append(accuracy_score(y_test,predictions))\n",
    "\n",
    "plt.plot(range(2,n), accuracy)\n",
    "plt.xlabel(\"Min Samples per Split\")\n",
    "plt.ylabel(\"Accuracy of prediction\")\n",
    "plt.title(\"Effect of the min samples per split on the prediction accuracy\")\n",
    "plt.show()"
   ]
  },
  {
   "cell_type": "code",
   "execution_count": 127,
   "metadata": {},
   "outputs": [
    {
     "data": {
      "image/png": "[encoded data removed]",
      "text/plain": [
       "<Figure size 640x480 with 1 Axes>"
      ]
     },
     "metadata": {},
     "output_type": "display_data"
    }
   ],
   "source": [
    "#tuning around n_estimators\n",
    "\n",
    "X_train_scaled, X_test_scaled, y_train, y_test = train_test_scale_function(wine_data_encoded_cat,\"ert\")\n",
    "\n",
    "\n",
    "n=1000\n",
    "accuracy=[]\n",
    "for i in range(50,n+1,25):\n",
    "    ert_model=ExtraTreesClassifier(random_state=42, n_estimators=i+1)\n",
    "    ert_model=ert_model.fit(X_train_scaled,y_train)\n",
    "    predictions=ert_model.predict(X_test_scaled)\n",
    "    accuracy.append(accuracy_score(y_test,predictions))\n",
    "\n",
    "plt.plot(range(50,n+1,25), accuracy, marker=\"o\")\n",
    "plt.xticks(ticks=range(50,n+1,25), rotation=90)\n",
    "plt.grid(True)\n",
    "plt.xlabel(\"Number of Estimators\")\n",
    "plt.ylabel(\"Accuracy of prediction\")\n",
    "plt.title(\"Effect of the number of estimators on the prediction accuracy\")\n",
    "plt.show()"
   ]
  },
  {
   "cell_type": "code",
   "execution_count": 130,
   "metadata": {},
   "outputs": [
    {
     "data": {
      "image/png": "[encoded data removed]",
      "text/plain": [
       "<Figure size 640x480 with 1 Axes>"
      ]
     },
     "metadata": {},
     "output_type": "display_data"
    }
   ],
   "source": [
    "#tune around 675 for n estimators\n",
    "X_train_scaled, X_test_scaled, y_train, y_test = train_test_scale_function(wine_data_encoded_cat,\"ert\")\n",
    "\n",
    "\n",
    "n=700\n",
    "accuracy=[]\n",
    "for i in range(650,n+1,1):\n",
    "    ert_model=ExtraTreesClassifier(random_state=42, n_estimators=i+1)\n",
    "    ert_model=ert_model.fit(X_train_scaled,y_train)\n",
    "    predictions=ert_model.predict(X_test_scaled)\n",
    "    accuracy.append(accuracy_score(y_test,predictions))\n",
    "\n",
    "plt.plot(range(650,n+1,1), accuracy, marker=\"o\")\n",
    "plt.xticks(ticks=range(650,n+1,1), rotation=90)\n",
    "plt.grid(True)\n",
    "plt.xlabel(\"Number of Estimators\")\n",
    "plt.ylabel(\"Accuracy of prediction\")\n",
    "plt.title(\"Effect of the number of estimators on the prediction accuracy\")\n",
    "plt.show()"
   ]
  },
  {
   "cell_type": "code",
   "execution_count": 139,
   "metadata": {},
   "outputs": [
    {
     "data": {
      "application/vnd.microsoft.datawrangler.viewer.v0+json": {
       "columns": [
        {
         "name": "index",
         "rawType": "int64",
         "type": "integer"
        },
        {
         "name": "Feature",
         "rawType": "object",
         "type": "string"
        },
        {
         "name": "Importance",
         "rawType": "float64",
         "type": "float"
        }
       ],
       "conversionMethod": "pd.DataFrame",
       "ref": "9a5b9472-3e7a-4ac9-8cfd-8b40dc7d1adb",
       "rows": [
        [
         "10",
         "alcohol",
         "0.18391371612093763"
        ],
        [
         "1",
         "volatile_acidity",
         "0.11910989503054946"
        ],
        [
         "7",
         "density",
         "0.08556877411434866"
        ],
        [
         "5",
         "free_sulfur_dioxide",
         "0.08144962261355072"
        ],
        [
         "6",
         "total_sulfur_dioxide",
         "0.07977032097631033"
        ],
        [
         "2",
         "citric_acid",
         "0.07970770663437038"
        ],
        [
         "9",
         "sulphates",
         "0.07767681973725014"
        ],
        [
         "3",
         "residual_sugar",
         "0.0710878629250769"
        ],
        [
         "8",
         "pH",
         "0.07046203139184141"
        ],
        [
         "4",
         "chlorides",
         "0.07003949778895499"
        ],
        [
         "0",
         "fixed_acidity",
         "0.06764532291592558"
        ],
        [
         "11",
         "color",
         "0.0135684297508838"
        ]
       ],
       "shape": {
        "columns": 2,
        "rows": 12
       }
      },
      "text/html": [
       "<div>\n",
       "<style scoped>\n",
       "    .dataframe tbody tr th:only-of-type {\n",
       "        vertical-align: middle;\n",
       "    }\n",
       "\n",
       "    .dataframe tbody tr th {\n",
       "        vertical-align: top;\n",
       "    }\n",
       "\n",
       "    .dataframe thead th {\n",
       "        text-align: right;\n",
       "    }\n",
       "</style>\n",
       "<table border=\"1\" class=\"dataframe\">\n",
       "  <thead>\n",
       "    <tr style=\"text-align: right;\">\n",
       "      <th></th>\n",
       "      <th>Feature</th>\n",
       "      <th>Importance</th>\n",
       "    </tr>\n",
       "  </thead>\n",
       "  <tbody>\n",
       "    <tr>\n",
       "      <th>10</th>\n",
       "      <td>alcohol</td>\n",
       "      <td>0.183914</td>\n",
       "    </tr>\n",
       "    <tr>\n",
       "      <th>1</th>\n",
       "      <td>volatile_acidity</td>\n",
       "      <td>0.119110</td>\n",
       "    </tr>\n",
       "    <tr>\n",
       "      <th>7</th>\n",
       "      <td>density</td>\n",
       "      <td>0.085569</td>\n",
       "    </tr>\n",
       "    <tr>\n",
       "      <th>5</th>\n",
       "      <td>free_sulfur_dioxide</td>\n",
       "      <td>0.081450</td>\n",
       "    </tr>\n",
       "    <tr>\n",
       "      <th>6</th>\n",
       "      <td>total_sulfur_dioxide</td>\n",
       "      <td>0.079770</td>\n",
       "    </tr>\n",
       "    <tr>\n",
       "      <th>2</th>\n",
       "      <td>citric_acid</td>\n",
       "      <td>0.079708</td>\n",
       "    </tr>\n",
       "    <tr>\n",
       "      <th>9</th>\n",
       "      <td>sulphates</td>\n",
       "      <td>0.077677</td>\n",
       "    </tr>\n",
       "    <tr>\n",
       "      <th>3</th>\n",
       "      <td>residual_sugar</td>\n",
       "      <td>0.071088</td>\n",
       "    </tr>\n",
       "    <tr>\n",
       "      <th>8</th>\n",
       "      <td>pH</td>\n",
       "      <td>0.070462</td>\n",
       "    </tr>\n",
       "    <tr>\n",
       "      <th>4</th>\n",
       "      <td>chlorides</td>\n",
       "      <td>0.070039</td>\n",
       "    </tr>\n",
       "    <tr>\n",
       "      <th>0</th>\n",
       "      <td>fixed_acidity</td>\n",
       "      <td>0.067645</td>\n",
       "    </tr>\n",
       "    <tr>\n",
       "      <th>11</th>\n",
       "      <td>color</td>\n",
       "      <td>0.013568</td>\n",
       "    </tr>\n",
       "  </tbody>\n",
       "</table>\n",
       "</div>"
      ],
      "text/plain": [
       "                 Feature  Importance\n",
       "10               alcohol    0.183914\n",
       "1       volatile_acidity    0.119110\n",
       "7                density    0.085569\n",
       "5    free_sulfur_dioxide    0.081450\n",
       "6   total_sulfur_dioxide    0.079770\n",
       "2            citric_acid    0.079708\n",
       "9              sulphates    0.077677\n",
       "3         residual_sugar    0.071088\n",
       "8                     pH    0.070462\n",
       "4              chlorides    0.070039\n",
       "0          fixed_acidity    0.067645\n",
       "11                 color    0.013568"
      ]
     },
     "metadata": {},
     "output_type": "display_data"
    },
    {
     "name": "stdout",
     "output_type": "stream",
     "text": [
      "              precision    recall  f1-score   support\n",
      "\n",
      "           0       0.76      0.75      0.75       584\n",
      "           1       0.83      0.86      0.85       997\n",
      "           2       1.00      0.30      0.46        44\n",
      "\n",
      "    accuracy                           0.81      1625\n",
      "   macro avg       0.86      0.64      0.69      1625\n",
      "weighted avg       0.81      0.81      0.80      1625\n",
      "\n",
      "[[436 148   0]\n",
      " [136 861   0]\n",
      " [  0  31  13]]\n"
     ]
    }
   ],
   "source": [
    "#extremely random trees\n",
    "#metrics for best parameters\n",
    "\n",
    "#data\n",
    "X_train_scaled, X_test_scaled, y_train, y_test = train_test_scale_function(wine_data_encoded_cat,\"ert\")\n",
    "\n",
    "#initialize model\n",
    "#ert_model=ExtraTreesClassifier(random_state=42, max_depth=22, max_features=\"sqrt\", min_samples_leaf=2, min_samples_split= 4, n_estimators=675)\n",
    "\n",
    "ert_model=ExtraTreesClassifier(random_state=42, max_depth=30, max_features=\"sqrt\", min_samples_leaf=1, min_samples_split= 5, n_estimators=675)\n",
    "\n",
    "#fit model\n",
    "ert_model.fit(X_train_scaled,y_train)\n",
    "\n",
    "#feature importance\n",
    "importance=ert_model.feature_importances_\n",
    "importance_df=pd.DataFrame({\n",
    "    \"Feature\" : X_train_scaled.columns,\n",
    "    \"Importance\" : importance}).sort_values(by=\"Importance\", ascending=False)\n",
    "\n",
    "display(importance_df)\n",
    "\n",
    "#classification report\n",
    "predictions=ert_model.predict(X_test_scaled)\n",
    "cr=classification_report(y_test,predictions)\n",
    "print(cr)\n",
    "\n",
    "#confusion matrix\n",
    "cm=confusion_matrix(y_test,predictions)\n",
    "print(cm)"
   ]
  }
 ],
 "metadata": {
  "kernelspec": {
   "display_name": "base",
   "language": "python",
   "name": "python3"
  },
  "language_info": {
   "codemirror_mode": {
    "name": "ipython",
    "version": 3
   },
   "file_extension": ".py",
   "mimetype": "text/x-python",
   "name": "python",
   "nbconvert_exporter": "python",
   "pygments_lexer": "ipython3",
   "version": "3.12.7"
  }
 },
 "nbformat": 4,
 "nbformat_minor": 2
}
